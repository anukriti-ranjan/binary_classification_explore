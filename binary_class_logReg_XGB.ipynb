{
  "nbformat": 4,
  "nbformat_minor": 0,
  "metadata": {
    "colab": {
      "provenance": []
    },
    "kernelspec": {
      "name": "python3",
      "display_name": "Python 3"
    },
    "language_info": {
      "name": "python"
    }
  },
  "cells": [
    {
      "cell_type": "code",
      "execution_count": null,
      "metadata": {
        "id": "BMsUrY_Y4FrN"
      },
      "outputs": [],
      "source": [
        "!pip install pytorch-tabnet optuna"
      ]
    },
    {
      "cell_type": "code",
      "source": [
        "!pip uninstall tensorflow"
      ],
      "metadata": {
        "id": "OOTGeU1yVDQS"
      },
      "execution_count": null,
      "outputs": []
    },
    {
      "cell_type": "code",
      "source": [
        "!pip install tensorflow==2.4.2 deeptables"
      ],
      "metadata": {
        "id": "9dyAIdAmUaE0"
      },
      "execution_count": null,
      "outputs": []
    },
    {
      "cell_type": "code",
      "source": [
        "import numpy as np # linear algebra\n",
        "import pandas as pd # data processing, CSV file I/O (e.g. pd.read_csv)\n",
        "from itertools import chain, combinations\n",
        "#import optuna\n",
        "#cannot import name 'ParamSpec' from 'typing_extensions' (/usr/local/lib/python3.7/dist-packages/typing_extensions.py)\n",
        "\n",
        "\n",
        "from pytorch_tabnet.tab_model import TabNetClassifier\n",
        "\n",
        "from sklearn.impute import SimpleImputer,KNNImputer\n",
        "from sklearn.preprocessing import OneHotEncoder,StandardScaler,MinMaxScaler,MaxAbsScaler,RobustScaler\n",
        "from sklearn.model_selection import train_test_split,StratifiedKFold\n",
        "from sklearn.pipeline import Pipeline\n",
        "from sklearn.base import TransformerMixin\n",
        "from sklearn.compose import ColumnTransformer\n",
        "\n",
        "from sklearn.model_selection import GridSearchCV,RandomizedSearchCV\n",
        "from sklearn.model_selection import cross_val_score, KFold\n",
        "from sklearn.metrics import roc_auc_score\n",
        "from sklearn.metrics import roc_curve,f1_score,accuracy_score\n",
        "from sklearn.linear_model import LogisticRegression\n",
        "from xgboost import XGBRegressor,XGBClassifier\n",
        "from sklearn.feature_selection import mutual_info_classif\n",
        "from sklearn.feature_selection import SelectKBest, SelectPercentile\n",
        "\n",
        "import torch\n",
        "import torch.nn as nn\n",
        "\n",
        "from xgboost import plot_importance\n",
        "from matplotlib import pyplot as plt\n",
        "import seaborn as sns"
      ],
      "metadata": {
        "id": "txf42LqdUaIO"
      },
      "execution_count": null,
      "outputs": []
    },
    {
      "cell_type": "code",
      "source": [
        "import os\n",
        "os.environ['KAGGLE_CONFIG_DIR'] = \"/content\"\n",
        "!mkdir aug-tabular-playground"
      ],
      "metadata": {
        "colab": {
          "base_uri": "https://localhost:8080/"
        },
        "id": "hmhXYue7UaMq",
        "outputId": "17494726-2bd4-4e71-d956-794679853ff5"
      },
      "execution_count": null,
      "outputs": [
        {
          "output_type": "stream",
          "name": "stdout",
          "text": [
            "mkdir: cannot create directory ‘aug-tabular-playground’: File exists\n"
          ]
        }
      ]
    },
    {
      "cell_type": "code",
      "source": [
        "!kaggle competitions download -c tabular-playground-series-aug-2022"
      ],
      "metadata": {
        "colab": {
          "base_uri": "https://localhost:8080/"
        },
        "id": "ZasuqUMiUaPm",
        "outputId": "92ad82fe-792e-4ee0-94df-4675f172c0af"
      },
      "execution_count": null,
      "outputs": [
        {
          "output_type": "stream",
          "name": "stdout",
          "text": [
            "Warning: Your Kaggle API key is readable by other users on this system! To fix this, you can run 'chmod 600 /content/kaggle.json'\n",
            "Downloading tabular-playground-series-aug-2022.zip to /content\n",
            "  0% 0.00/2.27M [00:00<?, ?B/s]\n",
            "100% 2.27M/2.27M [00:00<00:00, 192MB/s]\n"
          ]
        }
      ]
    },
    {
      "cell_type": "code",
      "source": [
        "from zipfile import ZipFile\n",
        "\n",
        "file_name = \"tabular-playground-series-aug-2022.zip\"\n",
        "  \n",
        "# opening the zip file in READ mode\n",
        "with ZipFile(file_name, 'r') as zipper:\n",
        "    # printing all the contents of the zip file\n",
        "    #zipper.printdir()\n",
        "    zipper.extractall('aug-tabular-playground')\n",
        "zipper.close()"
      ],
      "metadata": {
        "id": "ZmoKZh4CozHo"
      },
      "execution_count": null,
      "outputs": []
    },
    {
      "cell_type": "code",
      "source": [
        "df_org=pd.read_csv(\"/content/aug-tabular-playground/train.csv\")"
      ],
      "metadata": {
        "id": "lwqsUVJBozLM"
      },
      "execution_count": null,
      "outputs": []
    },
    {
      "cell_type": "code",
      "source": [
        "df_org['attribute_0_material_5'] = np.where(df_org['attribute_0']=='material_5', 1, 0)\n",
        "df_org['attribute_0_material_7'] = np.where(df_org['attribute_0']=='material_7', 1, 0)"
      ],
      "metadata": {
        "id": "aKDOVnInozOR"
      },
      "execution_count": null,
      "outputs": []
    },
    {
      "cell_type": "code",
      "source": [
        "features = ['attribute_0_material_5','attribute_0_material_7','loading', 'measurement_0', 'measurement_1', 'measurement_2',\n",
        "                'measurement_3', 'measurement_4', 'measurement_5', 'measurement_6',\n",
        "                'measurement_7', 'measurement_8', 'measurement_9', 'measurement_10',\n",
        "                'measurement_11', 'measurement_12', 'measurement_13', 'measurement_14',\n",
        "                'measurement_15', 'measurement_16', 'measurement_17']\n",
        "cat_features=['attribute_0_material_5','attribute_0_material_7']\n",
        "num_features = ['loading', 'measurement_0', 'measurement_1', 'measurement_2',\n",
        "                'measurement_3', 'measurement_4', 'measurement_5', 'measurement_6',\n",
        "                'measurement_7', 'measurement_8', 'measurement_9', 'measurement_10',\n",
        "                'measurement_11', 'measurement_12', 'measurement_13', 'measurement_14',\n",
        "                'measurement_15', 'measurement_16', 'measurement_17']\n",
        "cat_features=['attribute_0_material_5','attribute_0_material_7']"
      ],
      "metadata": {
        "id": "DAfVY5zbozR7"
      },
      "execution_count": null,
      "outputs": []
    },
    {
      "cell_type": "code",
      "source": [],
      "metadata": {
        "id": "NFdpOhjqp1T2"
      },
      "execution_count": null,
      "outputs": []
    },
    {
      "cell_type": "code",
      "source": [
        "X_train, X_test, y_train, y_test = train_test_split(df_org[features], df_org['failure'], \n",
        "                                                    test_size=0.33,\n",
        "                                                    random_state=2,\n",
        "                                                    stratify=df_org['failure']) "
      ],
      "metadata": {
        "id": "UVWZfkozozVS"
      },
      "execution_count": null,
      "outputs": []
    },
    {
      "cell_type": "code",
      "source": [
        "col_pair_list=sum([list(map(list, combinations(features, 2)))], [])\n",
        "def get_interaction_features_pairs(df_org,col_pair_list):\n",
        "    X_copy=df_org.copy()\n",
        "    for col_pair in col_pair_list:\n",
        "        col1,col2=col_pair\n",
        "        new_col=f\"{col1}_{col2}\"\n",
        "        X_copy[new_col]=X_copy[col1]*X_copy[col2]\n",
        "    return X_copy\n",
        "\n",
        "col_triplet_list=sum([list(map(list, combinations(features, 3)))], [])\n",
        "def get_interaction_features_triplets(df_org,col_triplet_list):\n",
        "    X_copy=df_org.copy()\n",
        "    for col_triplet in col_triplet_list:\n",
        "        col1,col2,col3=col_triplet\n",
        "        new_col=f\"{col1}_{col2}_{col3}\"\n",
        "        X_copy[new_col]=X_copy[col1]*X_copy[col2]*X_copy[col3]\n",
        "    return X_copy"
      ],
      "metadata": {
        "id": "BfFNkEmRqALs"
      },
      "execution_count": null,
      "outputs": []
    },
    {
      "cell_type": "code",
      "source": [
        "N_NEIGHBORS=5\n",
        "imputer=KNNImputer(n_neighbors=N_NEIGHBORS)\n",
        "X_train_numpy=imputer.fit_transform(X_train[num_features])\n",
        "X_test_numpy=imputer.transform(X_test[num_features])\n",
        "\n",
        "scaler=MinMaxScaler()\n",
        "X_train_numpy=scaler.fit_transform(X_train_numpy)\n",
        "X_test_numpy=scaler.transform(X_test_numpy)\n",
        "\n",
        "X_train_imputed=pd.concat([X_train[cat_features].copy().reset_index(drop=True),\n",
        "                            pd.DataFrame(X_train_numpy,columns=num_features)],\n",
        "                            axis=1)\n",
        "\n",
        "X_test_imputed=pd.concat([X_test[cat_features].copy().reset_index(drop=True),\n",
        "                            pd.DataFrame(X_test_numpy,columns=num_features)],\n",
        "                            axis=1)\n",
        "\n",
        "\n",
        "\n",
        "X_train_new_feats=get_interaction_features_pairs(X_train_imputed,col_pair_list)\n",
        "X_test_new_feats=get_interaction_features_pairs(X_test_imputed,col_pair_list)\n",
        "\n",
        "X_train_new_feats=get_interaction_features_triplets(X_train_new_feats,col_triplet_list)\n",
        "X_test_new_feats=get_interaction_features_triplets(X_test_new_feats,col_triplet_list)\n",
        "\n",
        "selector = SelectKBest(mutual_info_classif, k=720)\n",
        "X_train_reduced = selector.fit_transform(X_train_new_feats, y_train)\n",
        "X_test_reduced = selector.transform(X_test_new_feats)\n",
        "\n",
        "cols = selector.get_support(indices=True)\n",
        "selected_columns = X_train_new_feats.iloc[:,cols].columns.tolist()\n",
        "\n",
        "#X_train_reduced_df=pd.DataFrame(X_train_reduced,columns=selected_columns)\n",
        "\n",
        "#X_test_reduced_df=pd.DataFrame(X_test_reduced,columns=selected_columns)\n",
        "\n",
        "scaler2=MinMaxScaler()\n",
        "X_train_numpy=scaler2.fit_transform(X_train_reduced)\n",
        "X_test_numpy=scaler2.transform(X_test_reduced)\n",
        "\n",
        "X_train_scaled = pd.DataFrame(X_train_numpy,columns=selected_columns)\n",
        "\n",
        "X_test_scaled = pd.DataFrame(X_test_numpy,columns=selected_columns)\n",
        "\n"
      ],
      "metadata": {
        "colab": {
          "base_uri": "https://localhost:8080/"
        },
        "id": "PkOm2yr8ozYh",
        "outputId": "0b68d921-caee-4d1b-90f1-50bf0fe79832"
      },
      "execution_count": null,
      "outputs": [
        {
          "output_type": "stream",
          "name": "stderr",
          "text": [
            "/usr/local/lib/python3.7/dist-packages/ipykernel_launcher.py:7: PerformanceWarning: DataFrame is highly fragmented.  This is usually the result of calling `frame.insert` many times, which has poor performance.  Consider joining all columns at once using pd.concat(axis=1) instead.  To get a de-fragmented frame, use `newframe = frame.copy()`\n",
            "  import sys\n",
            "/usr/local/lib/python3.7/dist-packages/ipykernel_launcher.py:16: PerformanceWarning: DataFrame is highly fragmented.  This is usually the result of calling `frame.insert` many times, which has poor performance.  Consider joining all columns at once using pd.concat(axis=1) instead.  To get a de-fragmented frame, use `newframe = frame.copy()`\n",
            "  app.launch_new_instance()\n"
          ]
        }
      ]
    },
    {
      "cell_type": "code",
      "source": [],
      "metadata": {
        "id": "LuU9ayltUaTH"
      },
      "execution_count": null,
      "outputs": []
    },
    {
      "cell_type": "code",
      "source": [
        "from sklearn.decomposition import PCA\n",
        "# initializing the PCA transformer and\n",
        "\n",
        "pca = PCA(n_components=100).fit(X_train_scaled)\n",
        "\n",
        "fig = plt.figure(constrained_layout=True, figsize=(8, 4))\n",
        "\n",
        "plt.plot(np.cumsum(pca.explained_variance_ratio_))\n",
        "plt.xlabel('number of components')\n",
        "plt.ylabel('cumulative explained variance')"
      ],
      "metadata": {
        "colab": {
          "base_uri": "https://localhost:8080/",
          "height": 330
        },
        "id": "OFrUsaC3UaV-",
        "outputId": "32540d98-3ce6-4786-ca10-5daeb9e6308c"
      },
      "execution_count": null,
      "outputs": [
        {
          "output_type": "execute_result",
          "data": {
            "text/plain": [
              "Text(0, 0.5, 'cumulative explained variance')"
            ]
          },
          "metadata": {},
          "execution_count": 17
        },
        {
          "output_type": "display_data",
          "data": {
            "text/plain": [
              "<Figure size 576x288 with 1 Axes>"
            ],
            "image/png": "[encoded data removed]"
          },
          "metadata": {
            "needs_background": "light"
          }
        }
      ]
    },
    {
      "cell_type": "code",
      "source": [
        "pca60=PCA(n_components=60).fit(X_train_scaled)\n",
        "X_train_pca = pca60.fit_transform(X_train_scaled)\n",
        "\n",
        "X_test_pca = pca60.transform(X_test_scaled)"
      ],
      "metadata": {
        "id": "Kw69s8UzUaZE"
      },
      "execution_count": null,
      "outputs": []
    },
    {
      "cell_type": "code",
      "source": [
        "def grid_search(param_grid,X,y,random_st):\n",
        "    clf = LogisticRegression()\n",
        "    kf = StratifiedKFold(n_splits=5,random_state=random_st,shuffle=True)\n",
        "    for train_index,test_index in kf.split(X,y):\n",
        "          \n",
        "        grid_search =GridSearchCV(clf, \n",
        "                                  param_grid = param_grid, \n",
        "                                  scoring='roc_auc', \n",
        "                                  cv=[(train_index, test_index)])\n",
        "        grid_search.fit(X, y)\n",
        "        \n",
        "        y_pr=grid_search.decision_function(X)\n",
        "        roc_auc=roc_auc_score(y, y_pr)\n",
        "        #rand_reg.fit(X[feature_list], y)\n",
        "        best_params = grid_search.best_params_\n",
        "        print(\"Best params:\", best_params)\n",
        "        best_score = grid_search.best_score_\n",
        "        print(\"Best score:\", best_score)\n",
        "\n",
        "        print(\"roc_auc:\", roc_auc)"
      ],
      "metadata": {
        "id": "NKPoq3-mUacQ"
      },
      "execution_count": null,
      "outputs": []
    },
    {
      "cell_type": "code",
      "source": [
        "param_grid = [    \n",
        "    {'penalty' : ['l1'],\n",
        "    'C' : np.logspace(-4, 4, 20),\n",
        "    'solver' : ['liblinear'],\n",
        "    'max_iter' : [100, 250,500,750,1000]\n",
        "    }\n",
        "]\n",
        "grid_search(param_grid=param_grid,\n",
        "            X=X_train_pca,\n",
        "            y=y_train,\n",
        "            random_st=1)\n"
      ],
      "metadata": {
        "colab": {
          "base_uri": "https://localhost:8080/"
        },
        "id": "VjRQM2BNue-8",
        "outputId": "dc45256a-a7c9-4de5-8a9d-a03cd31884d6"
      },
      "execution_count": null,
      "outputs": [
        {
          "output_type": "stream",
          "name": "stdout",
          "text": [
            "Best params: {'C': 0.03359818286283781, 'max_iter': 250, 'penalty': 'l1', 'solver': 'liblinear'}\n",
            "Best score: 0.5881770145310435\n",
            "roc_auc: 0.5950253494025323\n",
            "Best params: {'C': 0.012742749857031334, 'max_iter': 100, 'penalty': 'l1', 'solver': 'liblinear'}\n",
            "Best score: 0.5883265288040602\n",
            "roc_auc: 0.5931810144888197\n",
            "Best params: {'C': 0.08858667904100823, 'max_iter': 500, 'penalty': 'l1', 'solver': 'liblinear'}\n",
            "Best score: 0.594377320770207\n",
            "roc_auc: 0.597278577266668\n",
            "Best params: {'C': 0.012742749857031334, 'max_iter': 250, 'penalty': 'l1', 'solver': 'liblinear'}\n",
            "Best score: 0.610740238214293\n",
            "roc_auc: 0.5931810898885893\n",
            "Best params: {'C': 0.615848211066026, 'max_iter': 1000, 'penalty': 'l1', 'solver': 'liblinear'}\n",
            "Best score: 0.5853258751356704\n",
            "roc_auc: 0.6009116397640288\n"
          ]
        }
      ]
    },
    {
      "cell_type": "code",
      "source": [
        "param_grid = [    \n",
        "    {'penalty' : ['l1'],\n",
        "    'C' : np.logspace(-4, 4, 20),\n",
        "    'solver' : ['liblinear'],\n",
        "    'max_iter' : [100, 250,500,750,1000]\n",
        "    }\n",
        "]\n",
        "grid_search(param_grid=param_grid,\n",
        "            X=X_train_pca,\n",
        "            y=y_train,\n",
        "            random_st=2)"
      ],
      "metadata": {
        "colab": {
          "base_uri": "https://localhost:8080/"
        },
        "id": "hy5pLfhXufCL",
        "outputId": "18b2b0b1-3ad7-48c6-c406-1bccf14d9b7e"
      },
      "execution_count": null,
      "outputs": [
        {
          "output_type": "stream",
          "name": "stdout",
          "text": [
            "Best params: {'C': 0.03359818286283781, 'max_iter': 100, 'penalty': 'l1', 'solver': 'liblinear'}\n",
            "Best score: 0.5863052781740371\n",
            "roc_auc: 0.595024482305182\n",
            "Best params: {'C': 0.004832930238571752, 'max_iter': 250, 'penalty': 'l1', 'solver': 'liblinear'}\n",
            "Best score: 0.5840204234847453\n",
            "roc_auc: 0.5900598787270106\n",
            "Best params: {'C': 0.08858667904100823, 'max_iter': 100, 'penalty': 'l1', 'solver': 'liblinear'}\n",
            "Best score: 0.602436246124293\n",
            "roc_auc: 0.5972786715163798\n",
            "Best params: {'C': 0.08858667904100823, 'max_iter': 750, 'penalty': 'l1', 'solver': 'liblinear'}\n",
            "Best score: 0.6003220742448527\n",
            "roc_auc: 0.597279010815343\n",
            "Best params: {'C': 0.03359818286283781, 'max_iter': 250, 'penalty': 'l1', 'solver': 'liblinear'}\n",
            "Best score: 0.5952491928114385\n",
            "roc_auc: 0.5950241241562766\n"
          ]
        }
      ]
    },
    {
      "cell_type": "code",
      "source": [
        "model = LogisticRegression(C=0.04, penalty='l1', solver='liblinear')\n",
        "model.fit(X_train_pca, y_train)\n",
        "coef=model.coef_[0]\n",
        "#imp_features=list(pd.Series(X_train_pca.columns)[list(coef!=0)])\n",
        "#print(imp_features)\n",
        "preds=model.predict_proba(X_test_pca)[:,1]\n",
        "roc_auc=roc_auc_score(y_test,preds)\n",
        "print(roc_auc)"
      ],
      "metadata": {
        "colab": {
          "base_uri": "https://localhost:8080/"
        },
        "id": "-BRLV_VzufFY",
        "outputId": "c4945228-4c3f-43b2-c092-ca2ca75889f1"
      },
      "execution_count": null,
      "outputs": [
        {
          "output_type": "stream",
          "name": "stdout",
          "text": [
            "0.5830870675911279\n"
          ]
        }
      ]
    },
    {
      "cell_type": "code",
      "source": [
        "df_check=pd.DataFrame({'y_pred':preds.tolist(),\n",
        "                       'y_true':y_test.tolist() })\n",
        "\n",
        "sns.histplot(data=df_check,x='y_pred', bins=100, kde=True, hue='y_true', legend=True)"
      ],
      "metadata": {
        "colab": {
          "base_uri": "https://localhost:8080/",
          "height": 297
        },
        "id": "CeUF9LiqufIe",
        "outputId": "d142b863-a061-4d3c-f9b8-a7cdc1187f81"
      },
      "execution_count": null,
      "outputs": [
        {
          "output_type": "execute_result",
          "data": {
            "text/plain": [
              "<matplotlib.axes._subplots.AxesSubplot at 0x7fbbc4cebe90>"
            ]
          },
          "metadata": {},
          "execution_count": 34
        },
        {
          "output_type": "display_data",
          "data": {
            "text/plain": [
              "<Figure size 432x288 with 1 Axes>"
            ],
            "image/png": "[encoded data removed]"
          },
          "metadata": {
            "needs_background": "light"
          }
        }
      ]
    },
    {
      "cell_type": "code",
      "source": [
        "from sklearn.manifold import TSNE\n",
        "\n",
        "tsne = TSNE(n_components=2, init='pca', random_state=1001, perplexity=30, method='barnes_hut', n_iter=1000, verbose=1)\n",
        "X_tsne = tsne.fit_transform(X_train_pca) # this will either fail or take a while (most likely overnight)\n",
        "X_tsne_df=pd.DataFrame({'V1':X_tsne[:,0],\n",
        "                        'V2':X_tsne[:,1],\n",
        "                        'y':y_train.tolist()})\n",
        "\n"
      ],
      "metadata": {
        "colab": {
          "base_uri": "https://localhost:8080/",
          "height": 904
        },
        "id": "wxSryhztufLU",
        "outputId": "6f5fc074-71b7-4dbf-e874-59f100d96ad9"
      },
      "execution_count": null,
      "outputs": [
        {
          "output_type": "stream",
          "name": "stderr",
          "text": [
            "/usr/local/lib/python3.7/dist-packages/sklearn/manifold/_t_sne.py:793: FutureWarning: The default learning rate in TSNE will change from 200.0 to 'auto' in 1.2.\n",
            "  FutureWarning,\n"
          ]
        },
        {
          "output_type": "stream",
          "name": "stdout",
          "text": [
            "[t-SNE] Computing 91 nearest neighbors...\n",
            "[t-SNE] Indexed 17801 samples in 0.001s...\n",
            "[t-SNE] Computed neighbors for 17801 samples in 8.020s...\n",
            "[t-SNE] Computed conditional probabilities for sample 1000 / 17801\n",
            "[t-SNE] Computed conditional probabilities for sample 2000 / 17801\n",
            "[t-SNE] Computed conditional probabilities for sample 3000 / 17801\n",
            "[t-SNE] Computed conditional probabilities for sample 4000 / 17801\n",
            "[t-SNE] Computed conditional probabilities for sample 5000 / 17801\n",
            "[t-SNE] Computed conditional probabilities for sample 6000 / 17801\n",
            "[t-SNE] Computed conditional probabilities for sample 7000 / 17801\n",
            "[t-SNE] Computed conditional probabilities for sample 8000 / 17801\n",
            "[t-SNE] Computed conditional probabilities for sample 9000 / 17801\n",
            "[t-SNE] Computed conditional probabilities for sample 10000 / 17801\n",
            "[t-SNE] Computed conditional probabilities for sample 11000 / 17801\n",
            "[t-SNE] Computed conditional probabilities for sample 12000 / 17801\n",
            "[t-SNE] Computed conditional probabilities for sample 13000 / 17801\n",
            "[t-SNE] Computed conditional probabilities for sample 14000 / 17801\n",
            "[t-SNE] Computed conditional probabilities for sample 15000 / 17801\n",
            "[t-SNE] Computed conditional probabilities for sample 16000 / 17801\n",
            "[t-SNE] Computed conditional probabilities for sample 17000 / 17801\n",
            "[t-SNE] Computed conditional probabilities for sample 17801 / 17801\n",
            "[t-SNE] Mean sigma: 0.689774\n"
          ]
        },
        {
          "output_type": "stream",
          "name": "stderr",
          "text": [
            "/usr/local/lib/python3.7/dist-packages/sklearn/manifold/_t_sne.py:986: FutureWarning: The PCA initialization in TSNE will change to have the standard deviation of PC1 equal to 1e-4 in 1.2. This will ensure better convergence.\n",
            "  FutureWarning,\n"
          ]
        },
        {
          "output_type": "stream",
          "name": "stdout",
          "text": [
            "[t-SNE] KL divergence after 250 iterations with early exaggeration: 97.960541\n",
            "[t-SNE] KL divergence after 1000 iterations: 3.711835\n"
          ]
        },
        {
          "output_type": "error",
          "ename": "KeyError",
          "evalue": "ignored",
          "traceback": [
            "\u001b[0;31m---------------------------------------------------------------------------\u001b[0m",
            "\u001b[0;31mKeyError\u001b[0m                                  Traceback (most recent call last)",
            "\u001b[0;32m<ipython-input-54-7573ed1420b1>\u001b[0m in \u001b[0;36m<module>\u001b[0;34m\u001b[0m\n\u001b[1;32m     10\u001b[0m \u001b[0mcolors\u001b[0m\u001b[0;34m=\u001b[0m\u001b[0;34m[\u001b[0m\u001b[0;34m'blue'\u001b[0m\u001b[0;34m,\u001b[0m\u001b[0;34m'red'\u001b[0m\u001b[0;34m]\u001b[0m\u001b[0;34m\u001b[0m\u001b[0;34m\u001b[0m\u001b[0m\n\u001b[1;32m     11\u001b[0m \u001b[0;32mfor\u001b[0m \u001b[0mcolor\u001b[0m\u001b[0;34m,\u001b[0m \u001b[0mi\u001b[0m  \u001b[0;32min\u001b[0m \u001b[0mzip\u001b[0m\u001b[0;34m(\u001b[0m\u001b[0mcolors\u001b[0m\u001b[0;34m,\u001b[0m \u001b[0;34m[\u001b[0m\u001b[0;36m0\u001b[0m\u001b[0;34m,\u001b[0m \u001b[0;36m1\u001b[0m\u001b[0;34m]\u001b[0m \u001b[0;34m)\u001b[0m\u001b[0;34m:\u001b[0m\u001b[0;34m\u001b[0m\u001b[0;34m\u001b[0m\u001b[0m\n\u001b[0;32m---> 12\u001b[0;31m         plt.scatter(X_tsne_df.loc['y' == i, 'V1'], X_tsne_df.loc['y' == i, 'V2'], color=color, s=1,\n\u001b[0m\u001b[1;32m     13\u001b[0m                                     alpha=.8, marker='.')\n\u001b[1;32m     14\u001b[0m         \u001b[0mplt\u001b[0m\u001b[0;34m.\u001b[0m\u001b[0mlegend\u001b[0m\u001b[0;34m(\u001b[0m\u001b[0mloc\u001b[0m\u001b[0;34m=\u001b[0m\u001b[0;34m'best'\u001b[0m\u001b[0;34m,\u001b[0m \u001b[0mshadow\u001b[0m\u001b[0;34m=\u001b[0m\u001b[0;32mFalse\u001b[0m\u001b[0;34m,\u001b[0m \u001b[0mscatterpoints\u001b[0m\u001b[0;34m=\u001b[0m\u001b[0;36m3\u001b[0m\u001b[0;34m)\u001b[0m\u001b[0;34m\u001b[0m\u001b[0;34m\u001b[0m\u001b[0m\n",
            "\u001b[0;32m/usr/local/lib/python3.7/dist-packages/pandas/core/indexing.py\u001b[0m in \u001b[0;36m__getitem__\u001b[0;34m(self, key)\u001b[0m\n\u001b[1;32m    923\u001b[0m                 \u001b[0;32mwith\u001b[0m \u001b[0msuppress\u001b[0m\u001b[0;34m(\u001b[0m\u001b[0mKeyError\u001b[0m\u001b[0;34m,\u001b[0m \u001b[0mIndexError\u001b[0m\u001b[0;34m)\u001b[0m\u001b[0;34m:\u001b[0m\u001b[0;34m\u001b[0m\u001b[0;34m\u001b[0m\u001b[0m\n\u001b[1;32m    924\u001b[0m                     \u001b[0;32mreturn\u001b[0m \u001b[0mself\u001b[0m\u001b[0;34m.\u001b[0m\u001b[0mobj\u001b[0m\u001b[0;34m.\u001b[0m\u001b[0m_get_value\u001b[0m\u001b[0;34m(\u001b[0m\u001b[0;34m*\u001b[0m\u001b[0mkey\u001b[0m\u001b[0;34m,\u001b[0m \u001b[0mtakeable\u001b[0m\u001b[0;34m=\u001b[0m\u001b[0mself\u001b[0m\u001b[0;34m.\u001b[0m\u001b[0m_takeable\u001b[0m\u001b[0;34m)\u001b[0m\u001b[0;34m\u001b[0m\u001b[0;34m\u001b[0m\u001b[0m\n\u001b[0;32m--> 925\u001b[0;31m             \u001b[0;32mreturn\u001b[0m \u001b[0mself\u001b[0m\u001b[0;34m.\u001b[0m\u001b[0m_getitem_tuple\u001b[0m\u001b[0;34m(\u001b[0m\u001b[0mkey\u001b[0m\u001b[0;34m)\u001b[0m\u001b[0;34m\u001b[0m\u001b[0;34m\u001b[0m\u001b[0m\n\u001b[0m\u001b[1;32m    926\u001b[0m         \u001b[0;32melse\u001b[0m\u001b[0;34m:\u001b[0m\u001b[0;34m\u001b[0m\u001b[0;34m\u001b[0m\u001b[0m\n\u001b[1;32m    927\u001b[0m             \u001b[0;31m# we by definition only have the 0th axis\u001b[0m\u001b[0;34m\u001b[0m\u001b[0;34m\u001b[0m\u001b[0;34m\u001b[0m\u001b[0m\n",
            "\u001b[0;32m/usr/local/lib/python3.7/dist-packages/pandas/core/indexing.py\u001b[0m in \u001b[0;36m_getitem_tuple\u001b[0;34m(self, tup)\u001b[0m\n\u001b[1;32m   1098\u001b[0m     \u001b[0;32mdef\u001b[0m \u001b[0m_getitem_tuple\u001b[0m\u001b[0;34m(\u001b[0m\u001b[0mself\u001b[0m\u001b[0;34m,\u001b[0m \u001b[0mtup\u001b[0m\u001b[0;34m:\u001b[0m \u001b[0mtuple\u001b[0m\u001b[0;34m)\u001b[0m\u001b[0;34m:\u001b[0m\u001b[0;34m\u001b[0m\u001b[0;34m\u001b[0m\u001b[0m\n\u001b[1;32m   1099\u001b[0m         \u001b[0;32mwith\u001b[0m \u001b[0msuppress\u001b[0m\u001b[0;34m(\u001b[0m\u001b[0mIndexingError\u001b[0m\u001b[0;34m)\u001b[0m\u001b[0;34m:\u001b[0m\u001b[0;34m\u001b[0m\u001b[0;34m\u001b[0m\u001b[0m\n\u001b[0;32m-> 1100\u001b[0;31m             \u001b[0;32mreturn\u001b[0m \u001b[0mself\u001b[0m\u001b[0;34m.\u001b[0m\u001b[0m_getitem_lowerdim\u001b[0m\u001b[0;34m(\u001b[0m\u001b[0mtup\u001b[0m\u001b[0;34m)\u001b[0m\u001b[0;34m\u001b[0m\u001b[0;34m\u001b[0m\u001b[0m\n\u001b[0m\u001b[1;32m   1101\u001b[0m \u001b[0;34m\u001b[0m\u001b[0m\n\u001b[1;32m   1102\u001b[0m         \u001b[0;31m# no multi-index, so validate all of the indexers\u001b[0m\u001b[0;34m\u001b[0m\u001b[0;34m\u001b[0m\u001b[0;34m\u001b[0m\u001b[0m\n",
            "\u001b[0;32m/usr/local/lib/python3.7/dist-packages/pandas/core/indexing.py\u001b[0m in \u001b[0;36m_getitem_lowerdim\u001b[0;34m(self, tup)\u001b[0m\n\u001b[1;32m    836\u001b[0m                 \u001b[0;31m# We don't need to check for tuples here because those are\u001b[0m\u001b[0;34m\u001b[0m\u001b[0;34m\u001b[0m\u001b[0;34m\u001b[0m\u001b[0m\n\u001b[1;32m    837\u001b[0m                 \u001b[0;31m#  caught by the _is_nested_tuple_indexer check above.\u001b[0m\u001b[0;34m\u001b[0m\u001b[0;34m\u001b[0m\u001b[0;34m\u001b[0m\u001b[0m\n\u001b[0;32m--> 838\u001b[0;31m                 \u001b[0msection\u001b[0m \u001b[0;34m=\u001b[0m \u001b[0mself\u001b[0m\u001b[0;34m.\u001b[0m\u001b[0m_getitem_axis\u001b[0m\u001b[0;34m(\u001b[0m\u001b[0mkey\u001b[0m\u001b[0;34m,\u001b[0m \u001b[0maxis\u001b[0m\u001b[0;34m=\u001b[0m\u001b[0mi\u001b[0m\u001b[0;34m)\u001b[0m\u001b[0;34m\u001b[0m\u001b[0;34m\u001b[0m\u001b[0m\n\u001b[0m\u001b[1;32m    839\u001b[0m \u001b[0;34m\u001b[0m\u001b[0m\n\u001b[1;32m    840\u001b[0m                 \u001b[0;31m# We should never have a scalar section here, because\u001b[0m\u001b[0;34m\u001b[0m\u001b[0;34m\u001b[0m\u001b[0;34m\u001b[0m\u001b[0m\n",
            "\u001b[0;32m/usr/local/lib/python3.7/dist-packages/pandas/core/indexing.py\u001b[0m in \u001b[0;36m_getitem_axis\u001b[0;34m(self, key, axis)\u001b[0m\n\u001b[1;32m   1161\u001b[0m \u001b[0;34m\u001b[0m\u001b[0m\n\u001b[1;32m   1162\u001b[0m         \u001b[0;31m# fall thru to straight lookup\u001b[0m\u001b[0;34m\u001b[0m\u001b[0;34m\u001b[0m\u001b[0;34m\u001b[0m\u001b[0m\n\u001b[0;32m-> 1163\u001b[0;31m         \u001b[0mself\u001b[0m\u001b[0;34m.\u001b[0m\u001b[0m_validate_key\u001b[0m\u001b[0;34m(\u001b[0m\u001b[0mkey\u001b[0m\u001b[0;34m,\u001b[0m \u001b[0maxis\u001b[0m\u001b[0;34m)\u001b[0m\u001b[0;34m\u001b[0m\u001b[0;34m\u001b[0m\u001b[0m\n\u001b[0m\u001b[1;32m   1164\u001b[0m         \u001b[0;32mreturn\u001b[0m \u001b[0mself\u001b[0m\u001b[0;34m.\u001b[0m\u001b[0m_get_label\u001b[0m\u001b[0;34m(\u001b[0m\u001b[0mkey\u001b[0m\u001b[0;34m,\u001b[0m \u001b[0maxis\u001b[0m\u001b[0;34m=\u001b[0m\u001b[0maxis\u001b[0m\u001b[0;34m)\u001b[0m\u001b[0;34m\u001b[0m\u001b[0;34m\u001b[0m\u001b[0m\n\u001b[1;32m   1165\u001b[0m \u001b[0;34m\u001b[0m\u001b[0m\n",
            "\u001b[0;32m/usr/local/lib/python3.7/dist-packages/pandas/core/indexing.py\u001b[0m in \u001b[0;36m_validate_key\u001b[0;34m(self, key, axis)\u001b[0m\n\u001b[1;32m    971\u001b[0m         \u001b[0;32mif\u001b[0m \u001b[0misinstance\u001b[0m\u001b[0;34m(\u001b[0m\u001b[0mkey\u001b[0m\u001b[0;34m,\u001b[0m \u001b[0mbool\u001b[0m\u001b[0;34m)\u001b[0m \u001b[0;32mand\u001b[0m \u001b[0;32mnot\u001b[0m \u001b[0mis_bool_dtype\u001b[0m\u001b[0;34m(\u001b[0m\u001b[0mself\u001b[0m\u001b[0;34m.\u001b[0m\u001b[0mobj\u001b[0m\u001b[0;34m.\u001b[0m\u001b[0mindex\u001b[0m\u001b[0;34m)\u001b[0m\u001b[0;34m:\u001b[0m\u001b[0;34m\u001b[0m\u001b[0;34m\u001b[0m\u001b[0m\n\u001b[1;32m    972\u001b[0m             raise KeyError(\n\u001b[0;32m--> 973\u001b[0;31m                 \u001b[0;34mf\"{key}: boolean label can not be used without a boolean index\"\u001b[0m\u001b[0;34m\u001b[0m\u001b[0;34m\u001b[0m\u001b[0m\n\u001b[0m\u001b[1;32m    974\u001b[0m             )\n\u001b[1;32m    975\u001b[0m \u001b[0;34m\u001b[0m\u001b[0m\n",
            "\u001b[0;31mKeyError\u001b[0m: 'False: boolean label can not be used without a boolean index'"
          ]
        },
        {
          "output_type": "display_data",
          "data": {
            "text/plain": [
              "<Figure size 720x720 with 0 Axes>"
            ]
          },
          "metadata": {}
        }
      ]
    },
    {
      "cell_type": "code",
      "source": [
        "plt.figure(2, figsize=(10, 10))\n",
        "colors=['blue','red']\n",
        "for color, i  in zip(colors, [0, 1] ):\n",
        "        plt.scatter(X_tsne_df.loc[X_tsne_df['y'] == i, 'V1'], X_tsne_df.loc[X_tsne_df['y'] == i, 'V2'], color=color, s=1,\n",
        "                                    alpha=.8, marker='.')\n",
        "        plt.legend(loc='best', shadow=False, scatterpoints=3)\n",
        "        plt.title('Scatter plot of t-SNE embedding')\n",
        "        plt.xlabel('X')\n",
        "        plt.ylabel('Y')\n",
        "\n",
        "# plt.savefig('t-SNE-porto-01.png', dpi=150)\n",
        "plt.show()"
      ],
      "metadata": {
        "colab": {
          "base_uri": "https://localhost:8080/",
          "height": 656
        },
        "id": "DuoVS27VufOQ",
        "outputId": "c60e851b-c716-4754-e049-e910bf0ef2b0"
      },
      "execution_count": null,
      "outputs": [
        {
          "output_type": "stream",
          "name": "stderr",
          "text": [
            "WARNING:matplotlib.legend:No handles with labels found to put in legend.\n",
            "WARNING:matplotlib.legend:No handles with labels found to put in legend.\n"
          ]
        },
        {
          "output_type": "display_data",
          "data": {
            "text/plain": [
              "<Figure size 720x720 with 1 Axes>"
            ],
            "image/png": "[encoded data removed]"
          },
          "metadata": {
            "needs_background": "light"
          }
        }
      ]
    },
    {
      "cell_type": "code",
      "source": [
        "pca_col_list=[]\n",
        "for i in range(60):\n",
        "    pca_col_list.append(f\"V{i}\")"
      ],
      "metadata": {
        "id": "ed45wa36IApj"
      },
      "execution_count": null,
      "outputs": []
    },
    {
      "cell_type": "code",
      "source": [
        "from sklearn.cluster import KMeans\n",
        "\n",
        "X_train_pca_df=pd.DataFrame(X_train_pca,columns=pca_col_list)\n",
        "X_test_pca_df=pd.DataFrame(X_test_pca,columns=pca_col_list)\n",
        "kmeans = KMeans(n_clusters=5)\n",
        "X_train_pca_df[\"Cluster\"] = kmeans.fit_predict(X_train_pca_df)\n",
        "\n",
        "X_test_pca_df[\"Cluster\"] = kmeans.predict(X_test_pca_df)\n",
        "\n",
        "X_train_pca_df[\"target\"]=y_train.copy()\n",
        "X_test_pca_df[\"target\"]=y_test.copy()\n",
        "\n"
      ],
      "metadata": {
        "id": "59lLUvtiHnTd"
      },
      "execution_count": null,
      "outputs": []
    },
    {
      "cell_type": "code",
      "source": [
        "#X_train_pca_df.groupby(['Cluster', 'target'])['V0'].count()\n",
        "#X_train_pca_df.groupby(['Cluster'])['target'].count()\n",
        "\n",
        "#X_train_pca_df.groupby(['Cluster', 'target']).agg({'total': 'sum'})\n",
        "#X_train_pca_df.groupby(['Cluster']).agg({'total': 'sum'})\n",
        "\n",
        "X_train_pca_df.groupby(['Cluster', 'target']).agg({'target': 'count'}).div(X_train_pca_df.groupby(['Cluster']).agg({'target': 'count'}), level='Cluster') * 100"
      ],
      "metadata": {
        "colab": {
          "base_uri": "https://localhost:8080/",
          "height": 394
        },
        "id": "03LoDsZmKMwL",
        "outputId": "ce53572a-ce4b-42f7-8c0f-f61e853e6f3d"
      },
      "execution_count": null,
      "outputs": [
        {
          "output_type": "execute_result",
          "data": {
            "text/plain": [
              "                   target\n",
              "Cluster target           \n",
              "0       0.0     77.912212\n",
              "        1.0     22.087788\n",
              "1       0.0     80.147378\n",
              "        1.0     19.852622\n",
              "2       0.0     78.610297\n",
              "        1.0     21.389703\n",
              "3       0.0     78.527895\n",
              "        1.0     21.472105\n",
              "4       0.0     79.131007\n",
              "        1.0     20.868993"
            ],
            "text/html": [
              "\n",
              "  <div id=\"df-236f2aac-eb8b-4749-bf13-e01656dbc6d6\">\n",
              "    <div class=\"colab-df-container\">\n",
              "      <div>\n",
              "<style scoped>\n",
              "    .dataframe tbody tr th:only-of-type {\n",
              "        vertical-align: middle;\n",
              "    }\n",
              "\n",
              "    .dataframe tbody tr th {\n",
              "        vertical-align: top;\n",
              "    }\n",
              "\n",
              "    .dataframe thead th {\n",
              "        text-align: right;\n",
              "    }\n",
              "</style>\n",
              "<table border=\"1\" class=\"dataframe\">\n",
              "  <thead>\n",
              "    <tr style=\"text-align: right;\">\n",
              "      <th></th>\n",
              "      <th></th>\n",
              "      <th>target</th>\n",
              "    </tr>\n",
              "    <tr>\n",
              "      <th>Cluster</th>\n",
              "      <th>target</th>\n",
              "      <th></th>\n",
              "    </tr>\n",
              "  </thead>\n",
              "  <tbody>\n",
              "    <tr>\n",
              "      <th rowspan=\"2\" valign=\"top\">0</th>\n",
              "      <th>0.0</th>\n",
              "      <td>77.912212</td>\n",
              "    </tr>\n",
              "    <tr>\n",
              "      <th>1.0</th>\n",
              "      <td>22.087788</td>\n",
              "    </tr>\n",
              "    <tr>\n",
              "      <th rowspan=\"2\" valign=\"top\">1</th>\n",
              "      <th>0.0</th>\n",
              "      <td>80.147378</td>\n",
              "    </tr>\n",
              "    <tr>\n",
              "      <th>1.0</th>\n",
              "      <td>19.852622</td>\n",
              "    </tr>\n",
              "    <tr>\n",
              "      <th rowspan=\"2\" valign=\"top\">2</th>\n",
              "      <th>0.0</th>\n",
              "      <td>78.610297</td>\n",
              "    </tr>\n",
              "    <tr>\n",
              "      <th>1.0</th>\n",
              "      <td>21.389703</td>\n",
              "    </tr>\n",
              "    <tr>\n",
              "      <th rowspan=\"2\" valign=\"top\">3</th>\n",
              "      <th>0.0</th>\n",
              "      <td>78.527895</td>\n",
              "    </tr>\n",
              "    <tr>\n",
              "      <th>1.0</th>\n",
              "      <td>21.472105</td>\n",
              "    </tr>\n",
              "    <tr>\n",
              "      <th rowspan=\"2\" valign=\"top\">4</th>\n",
              "      <th>0.0</th>\n",
              "      <td>79.131007</td>\n",
              "    </tr>\n",
              "    <tr>\n",
              "      <th>1.0</th>\n",
              "      <td>20.868993</td>\n",
              "    </tr>\n",
              "  </tbody>\n",
              "</table>\n",
              "</div>\n",
              "      <button class=\"colab-df-convert\" onclick=\"convertToInteractive('df-236f2aac-eb8b-4749-bf13-e01656dbc6d6')\"\n",
              "              title=\"Convert this dataframe to an interactive table.\"\n",
              "              style=\"display:none;\">\n",
              "        \n",
              "  <svg xmlns=\"http://www.w3.org/2000/svg\" height=\"24px\"viewBox=\"0 0 24 24\"\n",
              "       width=\"24px\">\n",
              "    <path d=\"M0 0h24v24H0V0z\" fill=\"none\"/>\n",
              "    <path d=\"M18.56 5.44l.94 2.06.94-2.06 2.06-.94-2.06-.94-.94-2.06-.94 2.06-2.06.94zm-11 1L8.5 8.5l.94-2.06 2.06-.94-2.06-.94L8.5 2.5l-.94 2.06-2.06.94zm10 10l.94 2.06.94-2.06 2.06-.94-2.06-.94-.94-2.06-.94 2.06-2.06.94z\"/><path d=\"M17.41 7.96l-1.37-1.37c-.4-.4-.92-.59-1.43-.59-.52 0-1.04.2-1.43.59L10.3 9.45l-7.72 7.72c-.78.78-.78 2.05 0 2.83L4 21.41c.39.39.9.59 1.41.59.51 0 1.02-.2 1.41-.59l7.78-7.78 2.81-2.81c.8-.78.8-2.07 0-2.86zM5.41 20L4 18.59l7.72-7.72 1.47 1.35L5.41 20z\"/>\n",
              "  </svg>\n",
              "      </button>\n",
              "      \n",
              "  <style>\n",
              "    .colab-df-container {\n",
              "      display:flex;\n",
              "      flex-wrap:wrap;\n",
              "      gap: 12px;\n",
              "    }\n",
              "\n",
              "    .colab-df-convert {\n",
              "      background-color: #E8F0FE;\n",
              "      border: none;\n",
              "      border-radius: 50%;\n",
              "      cursor: pointer;\n",
              "      display: none;\n",
              "      fill: #1967D2;\n",
              "      height: 32px;\n",
              "      padding: 0 0 0 0;\n",
              "      width: 32px;\n",
              "    }\n",
              "\n",
              "    .colab-df-convert:hover {\n",
              "      background-color: #E2EBFA;\n",
              "      box-shadow: 0px 1px 2px rgba(60, 64, 67, 0.3), 0px 1px 3px 1px rgba(60, 64, 67, 0.15);\n",
              "      fill: #174EA6;\n",
              "    }\n",
              "\n",
              "    [theme=dark] .colab-df-convert {\n",
              "      background-color: #3B4455;\n",
              "      fill: #D2E3FC;\n",
              "    }\n",
              "\n",
              "    [theme=dark] .colab-df-convert:hover {\n",
              "      background-color: #434B5C;\n",
              "      box-shadow: 0px 1px 3px 1px rgba(0, 0, 0, 0.15);\n",
              "      filter: drop-shadow(0px 1px 2px rgba(0, 0, 0, 0.3));\n",
              "      fill: #FFFFFF;\n",
              "    }\n",
              "  </style>\n",
              "\n",
              "      <script>\n",
              "        const buttonEl =\n",
              "          document.querySelector('#df-236f2aac-eb8b-4749-bf13-e01656dbc6d6 button.colab-df-convert');\n",
              "        buttonEl.style.display =\n",
              "          google.colab.kernel.accessAllowed ? 'block' : 'none';\n",
              "\n",
              "        async function convertToInteractive(key) {\n",
              "          const element = document.querySelector('#df-236f2aac-eb8b-4749-bf13-e01656dbc6d6');\n",
              "          const dataTable =\n",
              "            await google.colab.kernel.invokeFunction('convertToInteractive',\n",
              "                                                     [key], {});\n",
              "          if (!dataTable) return;\n",
              "\n",
              "          const docLinkHtml = 'Like what you see? Visit the ' +\n",
              "            '<a target=\"_blank\" href=https://colab.research.google.com/notebooks/data_table.ipynb>data table notebook</a>'\n",
              "            + ' to learn more about interactive tables.';\n",
              "          element.innerHTML = '';\n",
              "          dataTable['output_type'] = 'display_data';\n",
              "          await google.colab.output.renderOutput(dataTable, element);\n",
              "          const docLink = document.createElement('div');\n",
              "          docLink.innerHTML = docLinkHtml;\n",
              "          element.appendChild(docLink);\n",
              "        }\n",
              "      </script>\n",
              "    </div>\n",
              "  </div>\n",
              "  "
            ]
          },
          "metadata": {},
          "execution_count": 71
        }
      ]
    },
    {
      "cell_type": "code",
      "source": [
        "features_to_bin = ['measurement_3', 'measurement_4', 'measurement_5', 'measurement_6',\n",
        "                'measurement_7', 'measurement_8', 'measurement_9', 'measurement_10',\n",
        "                'measurement_11', 'measurement_12', 'measurement_13', 'measurement_14',\n",
        "                'measurement_15', 'measurement_16', 'measurement_17','loading']\n",
        "\n",
        "QUANTILE_BINS=800\n",
        "class BinFeatures(TransformerMixin):\n",
        "    def __init__(self):\n",
        "         None\n",
        "    def fit(self, X,y=None):\n",
        "         self.bins_dict={}\n",
        "         for col in features_to_bin:\n",
        "             q, bins = pd.qcut(X[col], QUANTILE_BINS, retbins=True)\n",
        "             bins[0]=-np.Inf\n",
        "             bins[len(bins)-1]=np.Inf\n",
        "             self.bins_dict[col]=bins\n",
        "         return self\n",
        "    def transform(self, X, y=None):\n",
        "        df=pd.DataFrame()\n",
        "        X_copy=X.copy()\n",
        "        for col in features_to_bin:\n",
        "            col_bins=self.bins_dict[col]\n",
        "            bin_labels=np.arange(0,len(col_bins)-1)\n",
        "            new_col=f\"{col}_bin\"\n",
        "            #X[new_col]=pd.qcut(X[col].values, QUANTILE_BINS).codes +1\n",
        "            df[new_col] = pd.cut(X_copy[col], col_bins, labels=bin_labels,right=False).astype('int')\n",
        "        return df"
      ],
      "metadata": {
        "id": "npp7i7NaufRT"
      },
      "execution_count": null,
      "outputs": []
    },
    {
      "cell_type": "code",
      "source": [
        "col_pair_list=sum([list(map(list, combinations(features, 2)))], [])\n",
        "\n",
        "class InteractionFeatures(TransformerMixin):\n",
        "    def __init__(self):\n",
        "        None\n",
        "    def fit(self, X,y=None):\n",
        "        return self\n",
        "    def transform(self, X, y=None):\n",
        "        df=pd.DataFrame()\n",
        "        #X_copy=X.copy()\n",
        "        for col_pair in col_pair_list:\n",
        "            col1,col2=col_pair\n",
        "            new_col=f\"{col1}_{col2}\"\n",
        "            df[new_col]=X[col1]*X[col2]\n",
        "        return df"
      ],
      "metadata": {
        "id": "bw1BdXTp5C2B"
      },
      "execution_count": null,
      "outputs": []
    },
    {
      "cell_type": "code",
      "source": [
        "N_NEIGHBORS=5\n",
        "imputer=KNNImputer(n_neighbors=N_NEIGHBORS)\n",
        "X_train_numpy=imputer.fit_transform(X_train[num_features])\n",
        "X_test_numpy=imputer.transform(X_test[num_features])\n",
        "\n",
        "scaler=MinMaxScaler()\n",
        "X_train_numpy=scaler.fit_transform(X_train_numpy)\n",
        "X_test_numpy=scaler.transform(X_test_numpy)\n",
        "\n",
        "X_train_imputed=pd.concat([X_train[cat_features].copy().reset_index(drop=True),\n",
        "                            pd.DataFrame(X_train_numpy,columns=num_features)],\n",
        "                            axis=1)\n",
        "\n",
        "X_test_imputed=pd.concat([X_test[cat_features].copy().reset_index(drop=True),\n",
        "                            pd.DataFrame(X_test_numpy,columns=num_features)],\n",
        "                            axis=1)\n",
        "\n",
        "itf=InteractionFeatures()\n",
        "\n",
        "Xtrain_2feat=itf.fit_transform(X_train_imputed)\n",
        "Xtest_2feat=itf.transform(X_test_imputed)\n",
        "\n",
        "selector = SelectKBest(mutual_info_classif, k=20)\n",
        "X_train_reduced = selector.fit_transform(Xtrain_2feat, y_train)\n",
        "X_test_reduced = selector.transform(Xtest_2feat)\n",
        "\n",
        "cols = selector.get_support(indices=True)\n",
        "selected_columns = Xtrain_2feat.iloc[:,cols].columns.tolist()\n",
        "\n",
        "bf=BinFeatures()\n",
        "Xtrain_binfeat=bf.fit_transform(X_train_imputed[num_features])\n",
        "Xtest_binfeat=bf.transform(X_test_imputed[num_features])\n",
        "\n",
        "\n",
        "\n",
        "X_train_transformed=pd.concat([pd.DataFrame(X_train_reduced,columns=selected_columns).reset_index(drop=True),\n",
        "                               Xtrain_binfeat.reset_index(drop=True)],\n",
        "                              axis=1)\n",
        "\n",
        "\n",
        "X_test_transformed=pd.concat([pd.DataFrame(X_test_reduced,columns=selected_columns).reset_index(drop=True),\n",
        "                               Xtest_binfeat.reset_index(drop=True)],\n",
        "                              axis=1)\n",
        "\n",
        "\n"
      ],
      "metadata": {
        "colab": {
          "base_uri": "https://localhost:8080/"
        },
        "id": "Q3Qz1HWdufUG",
        "outputId": "c94140d7-f85a-4b18-c7de-3cf626ba5f85"
      },
      "execution_count": null,
      "outputs": [
        {
          "output_type": "stream",
          "name": "stderr",
          "text": [
            "/usr/local/lib/python3.7/dist-packages/ipykernel_launcher.py:14: PerformanceWarning: DataFrame is highly fragmented.  This is usually the result of calling `frame.insert` many times, which has poor performance.  Consider joining all columns at once using pd.concat(axis=1) instead.  To get a de-fragmented frame, use `newframe = frame.copy()`\n",
            "  \n"
          ]
        }
      ]
    },
    {
      "cell_type": "code",
      "source": [
        "X_train_transformed['measurement_16_bin'].dtypes"
      ],
      "metadata": {
        "colab": {
          "base_uri": "https://localhost:8080/"
        },
        "id": "m9UniQtQdlLD",
        "outputId": "a5c1c829-4c50-4c46-ae52-0569d35e1dc6"
      },
      "execution_count": null,
      "outputs": [
        {
          "output_type": "execute_result",
          "data": {
            "text/plain": [
              "dtype('int64')"
            ]
          },
          "metadata": {},
          "execution_count": 100
        }
      ]
    },
    {
      "cell_type": "code",
      "source": [
        "X_train_transformed.columns"
      ],
      "metadata": {
        "colab": {
          "base_uri": "https://localhost:8080/"
        },
        "id": "BH5OtK2hVgZG",
        "outputId": "c79d7f7b-b313-45e8-eb9b-821b61845335"
      },
      "execution_count": null,
      "outputs": [
        {
          "output_type": "execute_result",
          "data": {
            "text/plain": [
              "Index(['attribute_0_material_5_measurement_6', 'loading_measurement_0',\n",
              "       'loading_measurement_3', 'loading_measurement_5',\n",
              "       'loading_measurement_6', 'loading_measurement_7',\n",
              "       'loading_measurement_8', 'loading_measurement_9',\n",
              "       'loading_measurement_11', 'loading_measurement_12',\n",
              "       'loading_measurement_13', 'loading_measurement_15',\n",
              "       'loading_measurement_16', 'loading_measurement_17',\n",
              "       'measurement_0_measurement_3', 'measurement_0_measurement_11',\n",
              "       'measurement_0_measurement_13', 'measurement_2_measurement_15',\n",
              "       'measurement_5_measurement_10', 'measurement_7_measurement_11',\n",
              "       'measurement_3_bin', 'measurement_4_bin', 'measurement_5_bin',\n",
              "       'measurement_6_bin', 'measurement_7_bin', 'measurement_8_bin',\n",
              "       'measurement_9_bin', 'measurement_10_bin', 'measurement_11_bin',\n",
              "       'measurement_12_bin', 'measurement_13_bin', 'measurement_14_bin',\n",
              "       'measurement_15_bin', 'measurement_16_bin', 'measurement_17_bin',\n",
              "       'loading_bin'],\n",
              "      dtype='object')"
            ]
          },
          "metadata": {},
          "execution_count": 78
        }
      ]
    },
    {
      "cell_type": "code",
      "source": [
        "def grid_search(params,X,y, clf=XGBClassifier(scale_pos_weight=4)):\n",
        "\n",
        "    kf = StratifiedKFold(n_splits=5,random_state=1,shuffle=True)\n",
        "    for train_index,test_index in kf.split(X,y):\n",
        "          \n",
        "          clf_grid = GridSearchCV(clf, \n",
        "                                   params, \n",
        "                                   scoring='roc_auc', \n",
        "                                   cv=[(train_index, test_index)])\n",
        "          clf_grid.fit(X, y)\n",
        "          best_params = clf_grid.best_params_\n",
        "          print(\"Best params:\", best_params)\n",
        "          best_score = clf_grid.best_score_\n",
        "          print(\"Best score:\", best_score)"
      ],
      "metadata": {
        "id": "nEtY11ZgT9d0"
      },
      "execution_count": null,
      "outputs": []
    },
    {
      "cell_type": "code",
      "source": [
        "grid_search(params={'max_depth':[4,5,6,7,8,9],\n",
        "                    'min_child_weight':[1,2,3,4],\n",
        "                    'n_estimators':[100,200,300,400,500,600]},\n",
        "\n",
        "                    X=X_train_transformed,y=y_train)\n",
        "\n"
      ],
      "metadata": {
        "colab": {
          "base_uri": "https://localhost:8080/"
        },
        "id": "HCsqkDF4Z2jf",
        "outputId": "7e33633b-818d-42cf-d0a2-ab19c2948150"
      },
      "execution_count": null,
      "outputs": [
        {
          "output_type": "stream",
          "name": "stdout",
          "text": [
            "Best params: {'max_depth': 5, 'min_child_weight': 1, 'n_estimators': 100}\n",
            "Best score: 0.5677085198160017\n",
            "Best params: {'max_depth': 4, 'min_child_weight': 4, 'n_estimators': 100}\n",
            "Best score: 0.562926304190971\n",
            "Best params: {'max_depth': 4, 'min_child_weight': 2, 'n_estimators': 100}\n",
            "Best score: 0.5730909183451774\n",
            "Best params: {'max_depth': 4, 'min_child_weight': 4, 'n_estimators': 100}\n",
            "Best score: 0.5861115025371477\n",
            "Best params: {'max_depth': 4, 'min_child_weight': 2, 'n_estimators': 100}\n",
            "Best score: 0.5656866039452917\n"
          ]
        }
      ]
    },
    {
      "cell_type": "code",
      "source": [
        "grid_search(params={'max_depth':[6,7,8],\n",
        "                    'min_child_weight':[2,3,4],\n",
        "                    'subsample':[0.8,0.9,1],\n",
        "                    'colsample_bytree':[0.5,0.6,0.7,0.8,0.9],\n",
        "                    'colsample_bylevel':[0.7, 0.8,0.9],\n",
        "                    'colsample_bynode':[0.8, 0.9, 1],\n",
        "                     'n_estimators':[200,300,400,500,600],\n",
        "                    #'learning_rate':[0.05, 0.1, 0.2, 0.3, 0.4],\n",
        "                    #'gamma':[0, 0.1, 0.5, 1, 2, 5]},\n",
        "            X=X_train_transformed,y=y_train)"
      ],
      "metadata": {
        "colab": {
          "base_uri": "https://localhost:8080/",
          "height": 345
        },
        "id": "wVrSSveIVWM2",
        "outputId": "b67f97fe-e91c-4f1c-be8c-5ba8dd4ac924"
      },
      "execution_count": null,
      "outputs": [
        {
          "output_type": "error",
          "ename": "KeyboardInterrupt",
          "evalue": "ignored",
          "traceback": [
            "\u001b[0;31m---------------------------------------------------------------------------\u001b[0m",
            "\u001b[0;31mKeyboardInterrupt\u001b[0m                         Traceback (most recent call last)",
            "\u001b[0;32m<ipython-input-80-99e0d1310d9b>\u001b[0m in \u001b[0;36m<module>\u001b[0;34m\u001b[0m\n\u001b[1;32m      8\u001b[0m                     \u001b[0;34m'learning_rate'\u001b[0m\u001b[0;34m:\u001b[0m\u001b[0;34m[\u001b[0m\u001b[0;36m0.05\u001b[0m\u001b[0;34m,\u001b[0m \u001b[0;36m0.1\u001b[0m\u001b[0;34m,\u001b[0m \u001b[0;36m0.2\u001b[0m\u001b[0;34m,\u001b[0m \u001b[0;36m0.3\u001b[0m\u001b[0;34m,\u001b[0m \u001b[0;36m0.4\u001b[0m\u001b[0;34m]\u001b[0m\u001b[0;34m,\u001b[0m\u001b[0;34m\u001b[0m\u001b[0;34m\u001b[0m\u001b[0m\n\u001b[1;32m      9\u001b[0m                     'gamma':[0, 0.1, 0.5, 1, 2, 5]},\n\u001b[0;32m---> 10\u001b[0;31m             X=X_train_transformed,y=y_train)\n\u001b[0m",
            "\u001b[0;32m<ipython-input-79-fb6436d4ada2>\u001b[0m in \u001b[0;36mgrid_search\u001b[0;34m(params, X, y, clf)\u001b[0m\n\u001b[1;32m      8\u001b[0m                                    \u001b[0mscoring\u001b[0m\u001b[0;34m=\u001b[0m\u001b[0;34m'roc_auc'\u001b[0m\u001b[0;34m,\u001b[0m\u001b[0;34m\u001b[0m\u001b[0;34m\u001b[0m\u001b[0m\n\u001b[1;32m      9\u001b[0m                                    cv=[(train_index, test_index)])\n\u001b[0;32m---> 10\u001b[0;31m           \u001b[0mclf_grid\u001b[0m\u001b[0;34m.\u001b[0m\u001b[0mfit\u001b[0m\u001b[0;34m(\u001b[0m\u001b[0mX\u001b[0m\u001b[0;34m,\u001b[0m \u001b[0my\u001b[0m\u001b[0;34m)\u001b[0m\u001b[0;34m\u001b[0m\u001b[0;34m\u001b[0m\u001b[0m\n\u001b[0m\u001b[1;32m     11\u001b[0m           \u001b[0mbest_params\u001b[0m \u001b[0;34m=\u001b[0m \u001b[0mclf_grid\u001b[0m\u001b[0;34m.\u001b[0m\u001b[0mbest_params_\u001b[0m\u001b[0;34m\u001b[0m\u001b[0;34m\u001b[0m\u001b[0m\n\u001b[1;32m     12\u001b[0m           \u001b[0mprint\u001b[0m\u001b[0;34m(\u001b[0m\u001b[0;34m\"Best params:\"\u001b[0m\u001b[0;34m,\u001b[0m \u001b[0mbest_params\u001b[0m\u001b[0;34m)\u001b[0m\u001b[0;34m\u001b[0m\u001b[0;34m\u001b[0m\u001b[0m\n",
            "\u001b[0;32m/usr/local/lib/python3.7/dist-packages/sklearn/model_selection/_search.py\u001b[0m in \u001b[0;36mfit\u001b[0;34m(self, X, y, groups, **fit_params)\u001b[0m\n\u001b[1;32m    889\u001b[0m                 \u001b[0;32mreturn\u001b[0m \u001b[0mresults\u001b[0m\u001b[0;34m\u001b[0m\u001b[0;34m\u001b[0m\u001b[0m\n\u001b[1;32m    890\u001b[0m \u001b[0;34m\u001b[0m\u001b[0m\n\u001b[0;32m--> 891\u001b[0;31m             \u001b[0mself\u001b[0m\u001b[0;34m.\u001b[0m\u001b[0m_run_search\u001b[0m\u001b[0;34m(\u001b[0m\u001b[0mevaluate_candidates\u001b[0m\u001b[0;34m)\u001b[0m\u001b[0;34m\u001b[0m\u001b[0;34m\u001b[0m\u001b[0m\n\u001b[0m\u001b[1;32m    892\u001b[0m \u001b[0;34m\u001b[0m\u001b[0m\n\u001b[1;32m    893\u001b[0m             \u001b[0;31m# multimetric is determined here because in the case of a callable\u001b[0m\u001b[0;34m\u001b[0m\u001b[0;34m\u001b[0m\u001b[0;34m\u001b[0m\u001b[0m\n",
            "\u001b[0;32m/usr/local/lib/python3.7/dist-packages/sklearn/model_selection/_search.py\u001b[0m in \u001b[0;36m_run_search\u001b[0;34m(self, evaluate_candidates)\u001b[0m\n\u001b[1;32m   1390\u001b[0m     \u001b[0;32mdef\u001b[0m \u001b[0m_run_search\u001b[0m\u001b[0;34m(\u001b[0m\u001b[0mself\u001b[0m\u001b[0;34m,\u001b[0m \u001b[0mevaluate_candidates\u001b[0m\u001b[0;34m)\u001b[0m\u001b[0;34m:\u001b[0m\u001b[0;34m\u001b[0m\u001b[0;34m\u001b[0m\u001b[0m\n\u001b[1;32m   1391\u001b[0m         \u001b[0;34m\"\"\"Search all candidates in param_grid\"\"\"\u001b[0m\u001b[0;34m\u001b[0m\u001b[0;34m\u001b[0m\u001b[0m\n\u001b[0;32m-> 1392\u001b[0;31m         \u001b[0mevaluate_candidates\u001b[0m\u001b[0;34m(\u001b[0m\u001b[0mParameterGrid\u001b[0m\u001b[0;34m(\u001b[0m\u001b[0mself\u001b[0m\u001b[0;34m.\u001b[0m\u001b[0mparam_grid\u001b[0m\u001b[0;34m)\u001b[0m\u001b[0;34m)\u001b[0m\u001b[0;34m\u001b[0m\u001b[0;34m\u001b[0m\u001b[0m\n\u001b[0m\u001b[1;32m   1393\u001b[0m \u001b[0;34m\u001b[0m\u001b[0m\n\u001b[1;32m   1394\u001b[0m \u001b[0;34m\u001b[0m\u001b[0m\n",
            "\u001b[0;32m/usr/local/lib/python3.7/dist-packages/sklearn/model_selection/_search.py\u001b[0m in \u001b[0;36mevaluate_candidates\u001b[0;34m(candidate_params, cv, more_results)\u001b[0m\n\u001b[1;32m    849\u001b[0m                     )\n\u001b[1;32m    850\u001b[0m                     for (cand_idx, parameters), (split_idx, (train, test)) in product(\n\u001b[0;32m--> 851\u001b[0;31m                         \u001b[0menumerate\u001b[0m\u001b[0;34m(\u001b[0m\u001b[0mcandidate_params\u001b[0m\u001b[0;34m)\u001b[0m\u001b[0;34m,\u001b[0m \u001b[0menumerate\u001b[0m\u001b[0;34m(\u001b[0m\u001b[0mcv\u001b[0m\u001b[0;34m.\u001b[0m\u001b[0msplit\u001b[0m\u001b[0;34m(\u001b[0m\u001b[0mX\u001b[0m\u001b[0;34m,\u001b[0m \u001b[0my\u001b[0m\u001b[0;34m,\u001b[0m \u001b[0mgroups\u001b[0m\u001b[0;34m)\u001b[0m\u001b[0;34m)\u001b[0m\u001b[0;34m\u001b[0m\u001b[0;34m\u001b[0m\u001b[0m\n\u001b[0m\u001b[1;32m    852\u001b[0m                     )\n\u001b[1;32m    853\u001b[0m                 )\n",
            "\u001b[0;32m/usr/local/lib/python3.7/dist-packages/joblib/parallel.py\u001b[0m in \u001b[0;36m__call__\u001b[0;34m(self, iterable)\u001b[0m\n\u001b[1;32m   1044\u001b[0m                 \u001b[0mself\u001b[0m\u001b[0;34m.\u001b[0m\u001b[0m_iterating\u001b[0m \u001b[0;34m=\u001b[0m \u001b[0mself\u001b[0m\u001b[0;34m.\u001b[0m\u001b[0m_original_iterator\u001b[0m \u001b[0;32mis\u001b[0m \u001b[0;32mnot\u001b[0m \u001b[0;32mNone\u001b[0m\u001b[0;34m\u001b[0m\u001b[0;34m\u001b[0m\u001b[0m\n\u001b[1;32m   1045\u001b[0m \u001b[0;34m\u001b[0m\u001b[0m\n\u001b[0;32m-> 1046\u001b[0;31m             \u001b[0;32mwhile\u001b[0m \u001b[0mself\u001b[0m\u001b[0;34m.\u001b[0m\u001b[0mdispatch_one_batch\u001b[0m\u001b[0;34m(\u001b[0m\u001b[0miterator\u001b[0m\u001b[0;34m)\u001b[0m\u001b[0;34m:\u001b[0m\u001b[0;34m\u001b[0m\u001b[0;34m\u001b[0m\u001b[0m\n\u001b[0m\u001b[1;32m   1047\u001b[0m                 \u001b[0;32mpass\u001b[0m\u001b[0;34m\u001b[0m\u001b[0;34m\u001b[0m\u001b[0m\n\u001b[1;32m   1048\u001b[0m \u001b[0;34m\u001b[0m\u001b[0m\n",
            "\u001b[0;32m/usr/local/lib/python3.7/dist-packages/joblib/parallel.py\u001b[0m in \u001b[0;36mdispatch_one_batch\u001b[0;34m(self, iterator)\u001b[0m\n\u001b[1;32m    859\u001b[0m                 \u001b[0;32mreturn\u001b[0m \u001b[0;32mFalse\u001b[0m\u001b[0;34m\u001b[0m\u001b[0;34m\u001b[0m\u001b[0m\n\u001b[1;32m    860\u001b[0m             \u001b[0;32melse\u001b[0m\u001b[0;34m:\u001b[0m\u001b[0;34m\u001b[0m\u001b[0;34m\u001b[0m\u001b[0m\n\u001b[0;32m--> 861\u001b[0;31m                 \u001b[0mself\u001b[0m\u001b[0;34m.\u001b[0m\u001b[0m_dispatch\u001b[0m\u001b[0;34m(\u001b[0m\u001b[0mtasks\u001b[0m\u001b[0;34m)\u001b[0m\u001b[0;34m\u001b[0m\u001b[0;34m\u001b[0m\u001b[0m\n\u001b[0m\u001b[1;32m    862\u001b[0m                 \u001b[0;32mreturn\u001b[0m \u001b[0;32mTrue\u001b[0m\u001b[0;34m\u001b[0m\u001b[0;34m\u001b[0m\u001b[0m\n\u001b[1;32m    863\u001b[0m \u001b[0;34m\u001b[0m\u001b[0m\n",
            "\u001b[0;32m/usr/local/lib/python3.7/dist-packages/joblib/parallel.py\u001b[0m in \u001b[0;36m_dispatch\u001b[0;34m(self, batch)\u001b[0m\n\u001b[1;32m    777\u001b[0m         \u001b[0;32mwith\u001b[0m \u001b[0mself\u001b[0m\u001b[0;34m.\u001b[0m\u001b[0m_lock\u001b[0m\u001b[0;34m:\u001b[0m\u001b[0;34m\u001b[0m\u001b[0;34m\u001b[0m\u001b[0m\n\u001b[1;32m    778\u001b[0m             \u001b[0mjob_idx\u001b[0m \u001b[0;34m=\u001b[0m \u001b[0mlen\u001b[0m\u001b[0;34m(\u001b[0m\u001b[0mself\u001b[0m\u001b[0;34m.\u001b[0m\u001b[0m_jobs\u001b[0m\u001b[0;34m)\u001b[0m\u001b[0;34m\u001b[0m\u001b[0;34m\u001b[0m\u001b[0m\n\u001b[0;32m--> 779\u001b[0;31m             \u001b[0mjob\u001b[0m \u001b[0;34m=\u001b[0m \u001b[0mself\u001b[0m\u001b[0;34m.\u001b[0m\u001b[0m_backend\u001b[0m\u001b[0;34m.\u001b[0m\u001b[0mapply_async\u001b[0m\u001b[0;34m(\u001b[0m\u001b[0mbatch\u001b[0m\u001b[0;34m,\u001b[0m \u001b[0mcallback\u001b[0m\u001b[0;34m=\u001b[0m\u001b[0mcb\u001b[0m\u001b[0;34m)\u001b[0m\u001b[0;34m\u001b[0m\u001b[0;34m\u001b[0m\u001b[0m\n\u001b[0m\u001b[1;32m    780\u001b[0m             \u001b[0;31m# A job can complete so quickly than its callback is\u001b[0m\u001b[0;34m\u001b[0m\u001b[0;34m\u001b[0m\u001b[0;34m\u001b[0m\u001b[0m\n\u001b[1;32m    781\u001b[0m             \u001b[0;31m# called before we get here, causing self._jobs to\u001b[0m\u001b[0;34m\u001b[0m\u001b[0;34m\u001b[0m\u001b[0;34m\u001b[0m\u001b[0m\n",
            "\u001b[0;32m/usr/local/lib/python3.7/dist-packages/joblib/_parallel_backends.py\u001b[0m in \u001b[0;36mapply_async\u001b[0;34m(self, func, callback)\u001b[0m\n\u001b[1;32m    206\u001b[0m     \u001b[0;32mdef\u001b[0m \u001b[0mapply_async\u001b[0m\u001b[0;34m(\u001b[0m\u001b[0mself\u001b[0m\u001b[0;34m,\u001b[0m \u001b[0mfunc\u001b[0m\u001b[0;34m,\u001b[0m \u001b[0mcallback\u001b[0m\u001b[0;34m=\u001b[0m\u001b[0;32mNone\u001b[0m\u001b[0;34m)\u001b[0m\u001b[0;34m:\u001b[0m\u001b[0;34m\u001b[0m\u001b[0;34m\u001b[0m\u001b[0m\n\u001b[1;32m    207\u001b[0m         \u001b[0;34m\"\"\"Schedule a func to be run\"\"\"\u001b[0m\u001b[0;34m\u001b[0m\u001b[0;34m\u001b[0m\u001b[0m\n\u001b[0;32m--> 208\u001b[0;31m         \u001b[0mresult\u001b[0m \u001b[0;34m=\u001b[0m \u001b[0mImmediateResult\u001b[0m\u001b[0;34m(\u001b[0m\u001b[0mfunc\u001b[0m\u001b[0;34m)\u001b[0m\u001b[0;34m\u001b[0m\u001b[0;34m\u001b[0m\u001b[0m\n\u001b[0m\u001b[1;32m    209\u001b[0m         \u001b[0;32mif\u001b[0m \u001b[0mcallback\u001b[0m\u001b[0;34m:\u001b[0m\u001b[0;34m\u001b[0m\u001b[0;34m\u001b[0m\u001b[0m\n\u001b[1;32m    210\u001b[0m             \u001b[0mcallback\u001b[0m\u001b[0;34m(\u001b[0m\u001b[0mresult\u001b[0m\u001b[0;34m)\u001b[0m\u001b[0;34m\u001b[0m\u001b[0;34m\u001b[0m\u001b[0m\n",
            "\u001b[0;32m/usr/local/lib/python3.7/dist-packages/joblib/_parallel_backends.py\u001b[0m in \u001b[0;36m__init__\u001b[0;34m(self, batch)\u001b[0m\n\u001b[1;32m    570\u001b[0m         \u001b[0;31m# Don't delay the application, to avoid keeping the input\u001b[0m\u001b[0;34m\u001b[0m\u001b[0;34m\u001b[0m\u001b[0;34m\u001b[0m\u001b[0m\n\u001b[1;32m    571\u001b[0m         \u001b[0;31m# arguments in memory\u001b[0m\u001b[0;34m\u001b[0m\u001b[0;34m\u001b[0m\u001b[0;34m\u001b[0m\u001b[0m\n\u001b[0;32m--> 572\u001b[0;31m         \u001b[0mself\u001b[0m\u001b[0;34m.\u001b[0m\u001b[0mresults\u001b[0m \u001b[0;34m=\u001b[0m \u001b[0mbatch\u001b[0m\u001b[0;34m(\u001b[0m\u001b[0;34m)\u001b[0m\u001b[0;34m\u001b[0m\u001b[0;34m\u001b[0m\u001b[0m\n\u001b[0m\u001b[1;32m    573\u001b[0m \u001b[0;34m\u001b[0m\u001b[0m\n\u001b[1;32m    574\u001b[0m     \u001b[0;32mdef\u001b[0m \u001b[0mget\u001b[0m\u001b[0;34m(\u001b[0m\u001b[0mself\u001b[0m\u001b[0;34m)\u001b[0m\u001b[0;34m:\u001b[0m\u001b[0;34m\u001b[0m\u001b[0;34m\u001b[0m\u001b[0m\n",
            "\u001b[0;32m/usr/local/lib/python3.7/dist-packages/joblib/parallel.py\u001b[0m in \u001b[0;36m__call__\u001b[0;34m(self)\u001b[0m\n\u001b[1;32m    261\u001b[0m         \u001b[0;32mwith\u001b[0m \u001b[0mparallel_backend\u001b[0m\u001b[0;34m(\u001b[0m\u001b[0mself\u001b[0m\u001b[0;34m.\u001b[0m\u001b[0m_backend\u001b[0m\u001b[0;34m,\u001b[0m \u001b[0mn_jobs\u001b[0m\u001b[0;34m=\u001b[0m\u001b[0mself\u001b[0m\u001b[0;34m.\u001b[0m\u001b[0m_n_jobs\u001b[0m\u001b[0;34m)\u001b[0m\u001b[0;34m:\u001b[0m\u001b[0;34m\u001b[0m\u001b[0;34m\u001b[0m\u001b[0m\n\u001b[1;32m    262\u001b[0m             return [func(*args, **kwargs)\n\u001b[0;32m--> 263\u001b[0;31m                     for func, args, kwargs in self.items]\n\u001b[0m\u001b[1;32m    264\u001b[0m \u001b[0;34m\u001b[0m\u001b[0m\n\u001b[1;32m    265\u001b[0m     \u001b[0;32mdef\u001b[0m \u001b[0m__reduce__\u001b[0m\u001b[0;34m(\u001b[0m\u001b[0mself\u001b[0m\u001b[0;34m)\u001b[0m\u001b[0;34m:\u001b[0m\u001b[0;34m\u001b[0m\u001b[0;34m\u001b[0m\u001b[0m\n",
            "\u001b[0;32m/usr/local/lib/python3.7/dist-packages/joblib/parallel.py\u001b[0m in \u001b[0;36m<listcomp>\u001b[0;34m(.0)\u001b[0m\n\u001b[1;32m    261\u001b[0m         \u001b[0;32mwith\u001b[0m \u001b[0mparallel_backend\u001b[0m\u001b[0;34m(\u001b[0m\u001b[0mself\u001b[0m\u001b[0;34m.\u001b[0m\u001b[0m_backend\u001b[0m\u001b[0;34m,\u001b[0m \u001b[0mn_jobs\u001b[0m\u001b[0;34m=\u001b[0m\u001b[0mself\u001b[0m\u001b[0;34m.\u001b[0m\u001b[0m_n_jobs\u001b[0m\u001b[0;34m)\u001b[0m\u001b[0;34m:\u001b[0m\u001b[0;34m\u001b[0m\u001b[0;34m\u001b[0m\u001b[0m\n\u001b[1;32m    262\u001b[0m             return [func(*args, **kwargs)\n\u001b[0;32m--> 263\u001b[0;31m                     for func, args, kwargs in self.items]\n\u001b[0m\u001b[1;32m    264\u001b[0m \u001b[0;34m\u001b[0m\u001b[0m\n\u001b[1;32m    265\u001b[0m     \u001b[0;32mdef\u001b[0m \u001b[0m__reduce__\u001b[0m\u001b[0;34m(\u001b[0m\u001b[0mself\u001b[0m\u001b[0;34m)\u001b[0m\u001b[0;34m:\u001b[0m\u001b[0;34m\u001b[0m\u001b[0;34m\u001b[0m\u001b[0m\n",
            "\u001b[0;32m/usr/local/lib/python3.7/dist-packages/sklearn/utils/fixes.py\u001b[0m in \u001b[0;36m__call__\u001b[0;34m(self, *args, **kwargs)\u001b[0m\n\u001b[1;32m    214\u001b[0m     \u001b[0;32mdef\u001b[0m \u001b[0m__call__\u001b[0m\u001b[0;34m(\u001b[0m\u001b[0mself\u001b[0m\u001b[0;34m,\u001b[0m \u001b[0;34m*\u001b[0m\u001b[0margs\u001b[0m\u001b[0;34m,\u001b[0m \u001b[0;34m**\u001b[0m\u001b[0mkwargs\u001b[0m\u001b[0;34m)\u001b[0m\u001b[0;34m:\u001b[0m\u001b[0;34m\u001b[0m\u001b[0;34m\u001b[0m\u001b[0m\n\u001b[1;32m    215\u001b[0m         \u001b[0;32mwith\u001b[0m \u001b[0mconfig_context\u001b[0m\u001b[0;34m(\u001b[0m\u001b[0;34m**\u001b[0m\u001b[0mself\u001b[0m\u001b[0;34m.\u001b[0m\u001b[0mconfig\u001b[0m\u001b[0;34m)\u001b[0m\u001b[0;34m:\u001b[0m\u001b[0;34m\u001b[0m\u001b[0;34m\u001b[0m\u001b[0m\n\u001b[0;32m--> 216\u001b[0;31m             \u001b[0;32mreturn\u001b[0m \u001b[0mself\u001b[0m\u001b[0;34m.\u001b[0m\u001b[0mfunction\u001b[0m\u001b[0;34m(\u001b[0m\u001b[0;34m*\u001b[0m\u001b[0margs\u001b[0m\u001b[0;34m,\u001b[0m \u001b[0;34m**\u001b[0m\u001b[0mkwargs\u001b[0m\u001b[0;34m)\u001b[0m\u001b[0;34m\u001b[0m\u001b[0;34m\u001b[0m\u001b[0m\n\u001b[0m\u001b[1;32m    217\u001b[0m \u001b[0;34m\u001b[0m\u001b[0m\n\u001b[1;32m    218\u001b[0m \u001b[0;34m\u001b[0m\u001b[0m\n",
            "\u001b[0;32m/usr/local/lib/python3.7/dist-packages/sklearn/model_selection/_validation.py\u001b[0m in \u001b[0;36m_fit_and_score\u001b[0;34m(estimator, X, y, scorer, train, test, verbose, parameters, fit_params, return_train_score, return_parameters, return_n_test_samples, return_times, return_estimator, split_progress, candidate_progress, error_score)\u001b[0m\n\u001b[1;32m    678\u001b[0m             \u001b[0mestimator\u001b[0m\u001b[0;34m.\u001b[0m\u001b[0mfit\u001b[0m\u001b[0;34m(\u001b[0m\u001b[0mX_train\u001b[0m\u001b[0;34m,\u001b[0m \u001b[0;34m**\u001b[0m\u001b[0mfit_params\u001b[0m\u001b[0;34m)\u001b[0m\u001b[0;34m\u001b[0m\u001b[0;34m\u001b[0m\u001b[0m\n\u001b[1;32m    679\u001b[0m         \u001b[0;32melse\u001b[0m\u001b[0;34m:\u001b[0m\u001b[0;34m\u001b[0m\u001b[0;34m\u001b[0m\u001b[0m\n\u001b[0;32m--> 680\u001b[0;31m             \u001b[0mestimator\u001b[0m\u001b[0;34m.\u001b[0m\u001b[0mfit\u001b[0m\u001b[0;34m(\u001b[0m\u001b[0mX_train\u001b[0m\u001b[0;34m,\u001b[0m \u001b[0my_train\u001b[0m\u001b[0;34m,\u001b[0m \u001b[0;34m**\u001b[0m\u001b[0mfit_params\u001b[0m\u001b[0;34m)\u001b[0m\u001b[0;34m\u001b[0m\u001b[0;34m\u001b[0m\u001b[0m\n\u001b[0m\u001b[1;32m    681\u001b[0m \u001b[0;34m\u001b[0m\u001b[0m\n\u001b[1;32m    682\u001b[0m     \u001b[0;32mexcept\u001b[0m \u001b[0mException\u001b[0m\u001b[0;34m:\u001b[0m\u001b[0;34m\u001b[0m\u001b[0;34m\u001b[0m\u001b[0m\n",
            "\u001b[0;32m/usr/local/lib/python3.7/dist-packages/xgboost/sklearn.py\u001b[0m in \u001b[0;36mfit\u001b[0;34m(self, X, y, sample_weight, eval_set, eval_metric, early_stopping_rounds, verbose, xgb_model, sample_weight_eval_set, callbacks)\u001b[0m\n\u001b[1;32m    678\u001b[0m         \u001b[0mself\u001b[0m\u001b[0;34m.\u001b[0m\u001b[0mn_classes_\u001b[0m \u001b[0;34m=\u001b[0m \u001b[0mlen\u001b[0m\u001b[0;34m(\u001b[0m\u001b[0mself\u001b[0m\u001b[0;34m.\u001b[0m\u001b[0mclasses_\u001b[0m\u001b[0;34m)\u001b[0m\u001b[0;34m\u001b[0m\u001b[0;34m\u001b[0m\u001b[0m\n\u001b[1;32m    679\u001b[0m \u001b[0;34m\u001b[0m\u001b[0m\n\u001b[0;32m--> 680\u001b[0;31m         \u001b[0mxgb_options\u001b[0m \u001b[0;34m=\u001b[0m \u001b[0mself\u001b[0m\u001b[0;34m.\u001b[0m\u001b[0mget_xgb_params\u001b[0m\u001b[0;34m(\u001b[0m\u001b[0;34m)\u001b[0m\u001b[0;34m\u001b[0m\u001b[0;34m\u001b[0m\u001b[0m\n\u001b[0m\u001b[1;32m    681\u001b[0m \u001b[0;34m\u001b[0m\u001b[0m\n\u001b[1;32m    682\u001b[0m         \u001b[0;32mif\u001b[0m \u001b[0mcallable\u001b[0m\u001b[0;34m(\u001b[0m\u001b[0mself\u001b[0m\u001b[0;34m.\u001b[0m\u001b[0mobjective\u001b[0m\u001b[0;34m)\u001b[0m\u001b[0;34m:\u001b[0m\u001b[0;34m\u001b[0m\u001b[0;34m\u001b[0m\u001b[0m\n",
            "\u001b[0;32m/usr/local/lib/python3.7/dist-packages/xgboost/sklearn.py\u001b[0m in \u001b[0;36mget_xgb_params\u001b[0;34m(self)\u001b[0m\n\u001b[1;32m    228\u001b[0m     \u001b[0;32mdef\u001b[0m \u001b[0mget_xgb_params\u001b[0m\u001b[0;34m(\u001b[0m\u001b[0mself\u001b[0m\u001b[0;34m)\u001b[0m\u001b[0;34m:\u001b[0m\u001b[0;34m\u001b[0m\u001b[0;34m\u001b[0m\u001b[0m\n\u001b[1;32m    229\u001b[0m         \u001b[0;34m\"\"\"Get xgboost type parameters.\"\"\"\u001b[0m\u001b[0;34m\u001b[0m\u001b[0;34m\u001b[0m\u001b[0m\n\u001b[0;32m--> 230\u001b[0;31m         \u001b[0mxgb_params\u001b[0m \u001b[0;34m=\u001b[0m \u001b[0mself\u001b[0m\u001b[0;34m.\u001b[0m\u001b[0mget_params\u001b[0m\u001b[0;34m(\u001b[0m\u001b[0;34m)\u001b[0m\u001b[0;34m\u001b[0m\u001b[0;34m\u001b[0m\u001b[0m\n\u001b[0m\u001b[1;32m    231\u001b[0m         \u001b[0mrandom_state\u001b[0m \u001b[0;34m=\u001b[0m \u001b[0mxgb_params\u001b[0m\u001b[0;34m.\u001b[0m\u001b[0mpop\u001b[0m\u001b[0;34m(\u001b[0m\u001b[0;34m'random_state'\u001b[0m\u001b[0;34m)\u001b[0m\u001b[0;34m\u001b[0m\u001b[0;34m\u001b[0m\u001b[0m\n\u001b[1;32m    232\u001b[0m         \u001b[0;32mif\u001b[0m \u001b[0;34m'seed'\u001b[0m \u001b[0;32min\u001b[0m \u001b[0mxgb_params\u001b[0m \u001b[0;32mand\u001b[0m \u001b[0mxgb_params\u001b[0m\u001b[0;34m[\u001b[0m\u001b[0;34m'seed'\u001b[0m\u001b[0;34m]\u001b[0m \u001b[0;32mis\u001b[0m \u001b[0;32mnot\u001b[0m \u001b[0;32mNone\u001b[0m\u001b[0;34m:\u001b[0m\u001b[0;34m\u001b[0m\u001b[0;34m\u001b[0m\u001b[0m\n",
            "\u001b[0;32m/usr/local/lib/python3.7/dist-packages/xgboost/sklearn.py\u001b[0m in \u001b[0;36mget_params\u001b[0;34m(self, deep)\u001b[0m\n\u001b[1;32m    217\u001b[0m     \u001b[0;32mdef\u001b[0m \u001b[0mget_params\u001b[0m\u001b[0;34m(\u001b[0m\u001b[0mself\u001b[0m\u001b[0;34m,\u001b[0m \u001b[0mdeep\u001b[0m\u001b[0;34m=\u001b[0m\u001b[0;32mFalse\u001b[0m\u001b[0;34m)\u001b[0m\u001b[0;34m:\u001b[0m\u001b[0;34m\u001b[0m\u001b[0;34m\u001b[0m\u001b[0m\n\u001b[1;32m    218\u001b[0m         \u001b[0;34m\"\"\"Get parameters.\"\"\"\u001b[0m\u001b[0;34m\u001b[0m\u001b[0;34m\u001b[0m\u001b[0m\n\u001b[0;32m--> 219\u001b[0;31m         \u001b[0mparams\u001b[0m \u001b[0;34m=\u001b[0m \u001b[0msuper\u001b[0m\u001b[0;34m(\u001b[0m\u001b[0mXGBModel\u001b[0m\u001b[0;34m,\u001b[0m \u001b[0mself\u001b[0m\u001b[0;34m)\u001b[0m\u001b[0;34m.\u001b[0m\u001b[0mget_params\u001b[0m\u001b[0;34m(\u001b[0m\u001b[0mdeep\u001b[0m\u001b[0;34m=\u001b[0m\u001b[0mdeep\u001b[0m\u001b[0;34m)\u001b[0m\u001b[0;34m\u001b[0m\u001b[0;34m\u001b[0m\u001b[0m\n\u001b[0m\u001b[1;32m    220\u001b[0m         \u001b[0;32mif\u001b[0m \u001b[0misinstance\u001b[0m\u001b[0;34m(\u001b[0m\u001b[0mself\u001b[0m\u001b[0;34m.\u001b[0m\u001b[0mkwargs\u001b[0m\u001b[0;34m,\u001b[0m \u001b[0mdict\u001b[0m\u001b[0;34m)\u001b[0m\u001b[0;34m:\u001b[0m  \u001b[0;31m# if kwargs is a dict, update params accordingly\u001b[0m\u001b[0;34m\u001b[0m\u001b[0;34m\u001b[0m\u001b[0m\n\u001b[1;32m    221\u001b[0m             \u001b[0mparams\u001b[0m\u001b[0;34m.\u001b[0m\u001b[0mupdate\u001b[0m\u001b[0;34m(\u001b[0m\u001b[0mself\u001b[0m\u001b[0;34m.\u001b[0m\u001b[0mkwargs\u001b[0m\u001b[0;34m)\u001b[0m\u001b[0;34m\u001b[0m\u001b[0;34m\u001b[0m\u001b[0m\n",
            "\u001b[0;32m/usr/local/lib/python3.7/dist-packages/sklearn/base.py\u001b[0m in \u001b[0;36mget_params\u001b[0;34m(self, deep)\u001b[0m\n\u001b[1;32m    208\u001b[0m         \u001b[0mout\u001b[0m \u001b[0;34m=\u001b[0m \u001b[0mdict\u001b[0m\u001b[0;34m(\u001b[0m\u001b[0;34m)\u001b[0m\u001b[0;34m\u001b[0m\u001b[0;34m\u001b[0m\u001b[0m\n\u001b[1;32m    209\u001b[0m         \u001b[0;32mfor\u001b[0m \u001b[0mkey\u001b[0m \u001b[0;32min\u001b[0m \u001b[0mself\u001b[0m\u001b[0;34m.\u001b[0m\u001b[0m_get_param_names\u001b[0m\u001b[0;34m(\u001b[0m\u001b[0;34m)\u001b[0m\u001b[0;34m:\u001b[0m\u001b[0;34m\u001b[0m\u001b[0;34m\u001b[0m\u001b[0m\n\u001b[0;32m--> 210\u001b[0;31m             \u001b[0mvalue\u001b[0m \u001b[0;34m=\u001b[0m \u001b[0mgetattr\u001b[0m\u001b[0;34m(\u001b[0m\u001b[0mself\u001b[0m\u001b[0;34m,\u001b[0m \u001b[0mkey\u001b[0m\u001b[0;34m)\u001b[0m\u001b[0;34m\u001b[0m\u001b[0;34m\u001b[0m\u001b[0m\n\u001b[0m\u001b[1;32m    211\u001b[0m             \u001b[0;32mif\u001b[0m \u001b[0mdeep\u001b[0m \u001b[0;32mand\u001b[0m \u001b[0mhasattr\u001b[0m\u001b[0;34m(\u001b[0m\u001b[0mvalue\u001b[0m\u001b[0;34m,\u001b[0m \u001b[0;34m\"get_params\"\u001b[0m\u001b[0;34m)\u001b[0m\u001b[0;34m:\u001b[0m\u001b[0;34m\u001b[0m\u001b[0;34m\u001b[0m\u001b[0m\n\u001b[1;32m    212\u001b[0m                 \u001b[0mdeep_items\u001b[0m \u001b[0;34m=\u001b[0m \u001b[0mvalue\u001b[0m\u001b[0;34m.\u001b[0m\u001b[0mget_params\u001b[0m\u001b[0;34m(\u001b[0m\u001b[0;34m)\u001b[0m\u001b[0;34m.\u001b[0m\u001b[0mitems\u001b[0m\u001b[0;34m(\u001b[0m\u001b[0;34m)\u001b[0m\u001b[0;34m\u001b[0m\u001b[0;34m\u001b[0m\u001b[0m\n",
            "\u001b[0;31mKeyboardInterrupt\u001b[0m: "
          ]
        }
      ]
    },
    {
      "cell_type": "code",
      "source": [
        "X_train.head()"
      ],
      "metadata": {
        "colab": {
          "base_uri": "https://localhost:8080/",
          "height": 300
        },
        "id": "C3ZR4jHkufXH",
        "outputId": "277fe95c-4cad-4573-d97f-9557f08bd364"
      },
      "execution_count": null,
      "outputs": [
        {
          "output_type": "execute_result",
          "data": {
            "text/plain": [
              "       attribute_0_material_5  attribute_0_material_7  loading  measurement_0  \\\n",
              "22543                       0                       1   125.70              4   \n",
              "5392                        1                       0   105.34              3   \n",
              "3239                        0                       1   141.06             11   \n",
              "17322                       0                       1   142.93              3   \n",
              "6443                        1                       0    83.18             10   \n",
              "\n",
              "       measurement_1  measurement_2  measurement_3  measurement_4  \\\n",
              "22543             24              4         16.225         10.940   \n",
              "5392               5              5         18.142         11.201   \n",
              "3239              10              3            NaN         12.276   \n",
              "17322              9              6         19.124         10.585   \n",
              "6443               7              2         17.066         11.927   \n",
              "\n",
              "       measurement_5  measurement_6  ...  measurement_8  measurement_9  \\\n",
              "22543         16.733         15.485  ...         17.838         11.159   \n",
              "5392          17.658         17.813  ...         18.734         12.800   \n",
              "3239          17.754         18.272  ...         18.438         12.225   \n",
              "17322         17.703         17.519  ...         17.061            NaN   \n",
              "6443          17.564         16.635  ...         20.152         12.072   \n",
              "\n",
              "       measurement_10  measurement_11  measurement_12  measurement_13  \\\n",
              "22543          14.858          19.329          11.550          15.354   \n",
              "5392           16.886          17.209             NaN          15.647   \n",
              "3239           15.649          20.085          12.643          14.704   \n",
              "17322          17.219          20.981          10.479          17.047   \n",
              "6443           16.840          19.184          12.993          16.820   \n",
              "\n",
              "       measurement_14  measurement_15  measurement_16  measurement_17  \n",
              "22543          15.702             NaN          17.838         379.696  \n",
              "5392           15.288          15.988          17.448         876.331  \n",
              "3239           17.548          15.129          16.840         715.104  \n",
              "17322          16.276          12.610          17.622         678.851  \n",
              "6443           15.737          19.548          21.562         719.858  \n",
              "\n",
              "[5 rows x 21 columns]"
            ],
            "text/html": [
              "\n",
              "  <div id=\"df-5a5372c3-ba93-4159-9716-ddfbcc3881a4\">\n",
              "    <div class=\"colab-df-container\">\n",
              "      <div>\n",
              "<style scoped>\n",
              "    .dataframe tbody tr th:only-of-type {\n",
              "        vertical-align: middle;\n",
              "    }\n",
              "\n",
              "    .dataframe tbody tr th {\n",
              "        vertical-align: top;\n",
              "    }\n",
              "\n",
              "    .dataframe thead th {\n",
              "        text-align: right;\n",
              "    }\n",
              "</style>\n",
              "<table border=\"1\" class=\"dataframe\">\n",
              "  <thead>\n",
              "    <tr style=\"text-align: right;\">\n",
              "      <th></th>\n",
              "      <th>attribute_0_material_5</th>\n",
              "      <th>attribute_0_material_7</th>\n",
              "      <th>loading</th>\n",
              "      <th>measurement_0</th>\n",
              "      <th>measurement_1</th>\n",
              "      <th>measurement_2</th>\n",
              "      <th>measurement_3</th>\n",
              "      <th>measurement_4</th>\n",
              "      <th>measurement_5</th>\n",
              "      <th>measurement_6</th>\n",
              "      <th>...</th>\n",
              "      <th>measurement_8</th>\n",
              "      <th>measurement_9</th>\n",
              "      <th>measurement_10</th>\n",
              "      <th>measurement_11</th>\n",
              "      <th>measurement_12</th>\n",
              "      <th>measurement_13</th>\n",
              "      <th>measurement_14</th>\n",
              "      <th>measurement_15</th>\n",
              "      <th>measurement_16</th>\n",
              "      <th>measurement_17</th>\n",
              "    </tr>\n",
              "  </thead>\n",
              "  <tbody>\n",
              "    <tr>\n",
              "      <th>22543</th>\n",
              "      <td>0</td>\n",
              "      <td>1</td>\n",
              "      <td>125.70</td>\n",
              "      <td>4</td>\n",
              "      <td>24</td>\n",
              "      <td>4</td>\n",
              "      <td>16.225</td>\n",
              "      <td>10.940</td>\n",
              "      <td>16.733</td>\n",
              "      <td>15.485</td>\n",
              "      <td>...</td>\n",
              "      <td>17.838</td>\n",
              "      <td>11.159</td>\n",
              "      <td>14.858</td>\n",
              "      <td>19.329</td>\n",
              "      <td>11.550</td>\n",
              "      <td>15.354</td>\n",
              "      <td>15.702</td>\n",
              "      <td>NaN</td>\n",
              "      <td>17.838</td>\n",
              "      <td>379.696</td>\n",
              "    </tr>\n",
              "    <tr>\n",
              "      <th>5392</th>\n",
              "      <td>1</td>\n",
              "      <td>0</td>\n",
              "      <td>105.34</td>\n",
              "      <td>3</td>\n",
              "      <td>5</td>\n",
              "      <td>5</td>\n",
              "      <td>18.142</td>\n",
              "      <td>11.201</td>\n",
              "      <td>17.658</td>\n",
              "      <td>17.813</td>\n",
              "      <td>...</td>\n",
              "      <td>18.734</td>\n",
              "      <td>12.800</td>\n",
              "      <td>16.886</td>\n",
              "      <td>17.209</td>\n",
              "      <td>NaN</td>\n",
              "      <td>15.647</td>\n",
              "      <td>15.288</td>\n",
              "      <td>15.988</td>\n",
              "      <td>17.448</td>\n",
              "      <td>876.331</td>\n",
              "    </tr>\n",
              "    <tr>\n",
              "      <th>3239</th>\n",
              "      <td>0</td>\n",
              "      <td>1</td>\n",
              "      <td>141.06</td>\n",
              "      <td>11</td>\n",
              "      <td>10</td>\n",
              "      <td>3</td>\n",
              "      <td>NaN</td>\n",
              "      <td>12.276</td>\n",
              "      <td>17.754</td>\n",
              "      <td>18.272</td>\n",
              "      <td>...</td>\n",
              "      <td>18.438</td>\n",
              "      <td>12.225</td>\n",
              "      <td>15.649</td>\n",
              "      <td>20.085</td>\n",
              "      <td>12.643</td>\n",
              "      <td>14.704</td>\n",
              "      <td>17.548</td>\n",
              "      <td>15.129</td>\n",
              "      <td>16.840</td>\n",
              "      <td>715.104</td>\n",
              "    </tr>\n",
              "    <tr>\n",
              "      <th>17322</th>\n",
              "      <td>0</td>\n",
              "      <td>1</td>\n",
              "      <td>142.93</td>\n",
              "      <td>3</td>\n",
              "      <td>9</td>\n",
              "      <td>6</td>\n",
              "      <td>19.124</td>\n",
              "      <td>10.585</td>\n",
              "      <td>17.703</td>\n",
              "      <td>17.519</td>\n",
              "      <td>...</td>\n",
              "      <td>17.061</td>\n",
              "      <td>NaN</td>\n",
              "      <td>17.219</td>\n",
              "      <td>20.981</td>\n",
              "      <td>10.479</td>\n",
              "      <td>17.047</td>\n",
              "      <td>16.276</td>\n",
              "      <td>12.610</td>\n",
              "      <td>17.622</td>\n",
              "      <td>678.851</td>\n",
              "    </tr>\n",
              "    <tr>\n",
              "      <th>6443</th>\n",
              "      <td>1</td>\n",
              "      <td>0</td>\n",
              "      <td>83.18</td>\n",
              "      <td>10</td>\n",
              "      <td>7</td>\n",
              "      <td>2</td>\n",
              "      <td>17.066</td>\n",
              "      <td>11.927</td>\n",
              "      <td>17.564</td>\n",
              "      <td>16.635</td>\n",
              "      <td>...</td>\n",
              "      <td>20.152</td>\n",
              "      <td>12.072</td>\n",
              "      <td>16.840</td>\n",
              "      <td>19.184</td>\n",
              "      <td>12.993</td>\n",
              "      <td>16.820</td>\n",
              "      <td>15.737</td>\n",
              "      <td>19.548</td>\n",
              "      <td>21.562</td>\n",
              "      <td>719.858</td>\n",
              "    </tr>\n",
              "  </tbody>\n",
              "</table>\n",
              "<p>5 rows × 21 columns</p>\n",
              "</div>\n",
              "      <button class=\"colab-df-convert\" onclick=\"convertToInteractive('df-5a5372c3-ba93-4159-9716-ddfbcc3881a4')\"\n",
              "              title=\"Convert this dataframe to an interactive table.\"\n",
              "              style=\"display:none;\">\n",
              "        \n",
              "  <svg xmlns=\"http://www.w3.org/2000/svg\" height=\"24px\"viewBox=\"0 0 24 24\"\n",
              "       width=\"24px\">\n",
              "    <path d=\"M0 0h24v24H0V0z\" fill=\"none\"/>\n",
              "    <path d=\"M18.56 5.44l.94 2.06.94-2.06 2.06-.94-2.06-.94-.94-2.06-.94 2.06-2.06.94zm-11 1L8.5 8.5l.94-2.06 2.06-.94-2.06-.94L8.5 2.5l-.94 2.06-2.06.94zm10 10l.94 2.06.94-2.06 2.06-.94-2.06-.94-.94-2.06-.94 2.06-2.06.94z\"/><path d=\"M17.41 7.96l-1.37-1.37c-.4-.4-.92-.59-1.43-.59-.52 0-1.04.2-1.43.59L10.3 9.45l-7.72 7.72c-.78.78-.78 2.05 0 2.83L4 21.41c.39.39.9.59 1.41.59.51 0 1.02-.2 1.41-.59l7.78-7.78 2.81-2.81c.8-.78.8-2.07 0-2.86zM5.41 20L4 18.59l7.72-7.72 1.47 1.35L5.41 20z\"/>\n",
              "  </svg>\n",
              "      </button>\n",
              "      \n",
              "  <style>\n",
              "    .colab-df-container {\n",
              "      display:flex;\n",
              "      flex-wrap:wrap;\n",
              "      gap: 12px;\n",
              "    }\n",
              "\n",
              "    .colab-df-convert {\n",
              "      background-color: #E8F0FE;\n",
              "      border: none;\n",
              "      border-radius: 50%;\n",
              "      cursor: pointer;\n",
              "      display: none;\n",
              "      fill: #1967D2;\n",
              "      height: 32px;\n",
              "      padding: 0 0 0 0;\n",
              "      width: 32px;\n",
              "    }\n",
              "\n",
              "    .colab-df-convert:hover {\n",
              "      background-color: #E2EBFA;\n",
              "      box-shadow: 0px 1px 2px rgba(60, 64, 67, 0.3), 0px 1px 3px 1px rgba(60, 64, 67, 0.15);\n",
              "      fill: #174EA6;\n",
              "    }\n",
              "\n",
              "    [theme=dark] .colab-df-convert {\n",
              "      background-color: #3B4455;\n",
              "      fill: #D2E3FC;\n",
              "    }\n",
              "\n",
              "    [theme=dark] .colab-df-convert:hover {\n",
              "      background-color: #434B5C;\n",
              "      box-shadow: 0px 1px 3px 1px rgba(0, 0, 0, 0.15);\n",
              "      filter: drop-shadow(0px 1px 2px rgba(0, 0, 0, 0.3));\n",
              "      fill: #FFFFFF;\n",
              "    }\n",
              "  </style>\n",
              "\n",
              "      <script>\n",
              "        const buttonEl =\n",
              "          document.querySelector('#df-5a5372c3-ba93-4159-9716-ddfbcc3881a4 button.colab-df-convert');\n",
              "        buttonEl.style.display =\n",
              "          google.colab.kernel.accessAllowed ? 'block' : 'none';\n",
              "\n",
              "        async function convertToInteractive(key) {\n",
              "          const element = document.querySelector('#df-5a5372c3-ba93-4159-9716-ddfbcc3881a4');\n",
              "          const dataTable =\n",
              "            await google.colab.kernel.invokeFunction('convertToInteractive',\n",
              "                                                     [key], {});\n",
              "          if (!dataTable) return;\n",
              "\n",
              "          const docLinkHtml = 'Like what you see? Visit the ' +\n",
              "            '<a target=\"_blank\" href=https://colab.research.google.com/notebooks/data_table.ipynb>data table notebook</a>'\n",
              "            + ' to learn more about interactive tables.';\n",
              "          element.innerHTML = '';\n",
              "          dataTable['output_type'] = 'display_data';\n",
              "          await google.colab.output.renderOutput(dataTable, element);\n",
              "          const docLink = document.createElement('div');\n",
              "          docLink.innerHTML = docLinkHtml;\n",
              "          element.appendChild(docLink);\n",
              "        }\n",
              "      </script>\n",
              "    </div>\n",
              "  </div>\n",
              "  "
            ]
          },
          "metadata": {},
          "execution_count": 59
        }
      ]
    },
    {
      "cell_type": "code",
      "source": [],
      "metadata": {
        "id": "AjPJ2CvgzJ8P"
      },
      "execution_count": null,
      "outputs": []
    },
    {
      "cell_type": "code",
      "source": [],
      "metadata": {
        "id": "R5GXuBbkzKAh"
      },
      "execution_count": null,
      "outputs": []
    },
    {
      "cell_type": "code",
      "source": [],
      "metadata": {
        "id": "32QTXziNzKDa"
      },
      "execution_count": null,
      "outputs": []
    },
    {
      "cell_type": "code",
      "source": [],
      "metadata": {
        "id": "2Q_L70bCzKGb"
      },
      "execution_count": null,
      "outputs": []
    },
    {
      "cell_type": "code",
      "source": [],
      "metadata": {
        "id": "XYUu0iz_zKJh"
      },
      "execution_count": null,
      "outputs": []
    },
    {
      "cell_type": "code",
      "source": [],
      "metadata": {
        "id": "mGj2C0OHzKMY"
      },
      "execution_count": null,
      "outputs": []
    },
    {
      "cell_type": "code",
      "source": [],
      "metadata": {
        "id": "cLr-3tWPzKPl"
      },
      "execution_count": null,
      "outputs": []
    },
    {
      "cell_type": "code",
      "source": [],
      "metadata": {
        "id": "adxO1KtxzKWD"
      },
      "execution_count": null,
      "outputs": []
    },
    {
      "cell_type": "code",
      "source": [
        "clf = TabNetClassifier(\n",
        "    n_d=24, n_a=24)"
      ],
      "metadata": {
        "colab": {
          "base_uri": "https://localhost:8080/"
        },
        "id": "AjkZ39gLzKZa",
        "outputId": "79629353-2824-4a51-e2ca-42eeec87da44"
      },
      "execution_count": null,
      "outputs": [
        {
          "output_type": "stream",
          "name": "stdout",
          "text": [
            "Device used : cpu\n"
          ]
        }
      ]
    },
    {
      "cell_type": "code",
      "source": [
        "max_epochs = 100 if not os.getenv(\"CI\", False) else 2"
      ],
      "metadata": {
        "id": "eFSnOt66zMbr"
      },
      "execution_count": null,
      "outputs": []
    },
    {
      "cell_type": "code",
      "source": [
        "clf.fit(\n",
        "    X_train=X_train_pca, y_train=y_train.values,\n",
        "    eval_set=[(X_train_pca, y_train.values), (X_test_pca, y_test.values)],\n",
        "    eval_name=['train', 'test'],\n",
        "    max_epochs=max_epochs, patience=100,\n",
        "    batch_size=5000, virtual_batch_size=512,\n",
        ")"
      ],
      "metadata": {
        "colab": {
          "base_uri": "https://localhost:8080/"
        },
        "id": "IL01rTiFzMfH",
        "outputId": "582c3f99-6af4-48e1-f50b-d135f5b286a1"
      },
      "execution_count": null,
      "outputs": [
        {
          "output_type": "stream",
          "name": "stdout",
          "text": [
            "epoch 0  | loss: 0.83741 | train_auc: 0.49177 | test_auc: 0.49467 |  0:00:02s\n",
            "epoch 1  | loss: 0.64396 | train_auc: 0.5026  | test_auc: 0.50692 |  0:00:04s\n",
            "epoch 2  | loss: 0.57442 | train_auc: 0.50876 | test_auc: 0.52422 |  0:00:05s\n",
            "epoch 3  | loss: 0.55348 | train_auc: 0.50424 | test_auc: 0.51755 |  0:00:07s\n",
            "epoch 4  | loss: 0.54218 | train_auc: 0.5073  | test_auc: 0.51867 |  0:00:09s\n",
            "epoch 5  | loss: 0.53165 | train_auc: 0.51735 | test_auc: 0.52175 |  0:00:11s\n",
            "epoch 6  | loss: 0.52492 | train_auc: 0.52678 | test_auc: 0.52211 |  0:00:13s\n",
            "epoch 7  | loss: 0.52267 | train_auc: 0.53332 | test_auc: 0.52682 |  0:00:15s\n",
            "epoch 8  | loss: 0.51986 | train_auc: 0.53488 | test_auc: 0.5276  |  0:00:17s\n",
            "epoch 9  | loss: 0.51851 | train_auc: 0.54321 | test_auc: 0.52924 |  0:00:19s\n",
            "epoch 10 | loss: 0.51544 | train_auc: 0.55215 | test_auc: 0.53072 |  0:00:20s\n",
            "epoch 11 | loss: 0.51398 | train_auc: 0.55924 | test_auc: 0.53414 |  0:00:22s\n",
            "epoch 12 | loss: 0.51161 | train_auc: 0.56239 | test_auc: 0.53485 |  0:00:24s\n",
            "epoch 13 | loss: 0.51102 | train_auc: 0.5631  | test_auc: 0.53629 |  0:00:26s\n",
            "epoch 14 | loss: 0.50979 | train_auc: 0.56424 | test_auc: 0.53918 |  0:00:29s\n",
            "epoch 15 | loss: 0.50822 | train_auc: 0.56373 | test_auc: 0.53924 |  0:00:30s\n",
            "epoch 16 | loss: 0.50793 | train_auc: 0.56404 | test_auc: 0.53873 |  0:00:32s\n",
            "epoch 17 | loss: 0.50621 | train_auc: 0.56649 | test_auc: 0.53922 |  0:00:34s\n",
            "epoch 18 | loss: 0.50587 | train_auc: 0.56653 | test_auc: 0.53938 |  0:00:36s\n",
            "epoch 19 | loss: 0.50445 | train_auc: 0.56606 | test_auc: 0.54066 |  0:00:38s\n",
            "epoch 20 | loss: 0.50368 | train_auc: 0.56699 | test_auc: 0.54186 |  0:00:40s\n",
            "epoch 21 | loss: 0.50278 | train_auc: 0.56553 | test_auc: 0.53806 |  0:00:42s\n",
            "epoch 22 | loss: 0.50235 | train_auc: 0.56427 | test_auc: 0.53524 |  0:00:44s\n",
            "epoch 23 | loss: 0.50265 | train_auc: 0.56418 | test_auc: 0.53182 |  0:00:47s\n",
            "epoch 24 | loss: 0.50163 | train_auc: 0.56571 | test_auc: 0.53401 |  0:00:49s\n",
            "epoch 25 | loss: 0.50034 | train_auc: 0.5657  | test_auc: 0.53598 |  0:00:51s\n",
            "epoch 26 | loss: 0.4991  | train_auc: 0.56514 | test_auc: 0.53284 |  0:00:53s\n",
            "epoch 27 | loss: 0.50029 | train_auc: 0.56793 | test_auc: 0.54256 |  0:00:55s\n",
            "epoch 28 | loss: 0.4993  | train_auc: 0.56714 | test_auc: 0.54191 |  0:00:56s\n",
            "epoch 29 | loss: 0.49788 | train_auc: 0.56565 | test_auc: 0.5383  |  0:00:58s\n",
            "epoch 30 | loss: 0.49903 | train_auc: 0.56699 | test_auc: 0.54004 |  0:01:00s\n",
            "epoch 31 | loss: 0.49841 | train_auc: 0.56648 | test_auc: 0.53895 |  0:01:02s\n",
            "epoch 32 | loss: 0.49856 | train_auc: 0.56509 | test_auc: 0.53873 |  0:01:04s\n",
            "epoch 33 | loss: 0.49895 | train_auc: 0.56406 | test_auc: 0.53665 |  0:01:06s\n",
            "epoch 34 | loss: 0.4987  | train_auc: 0.56534 | test_auc: 0.53593 |  0:01:08s\n",
            "epoch 35 | loss: 0.49871 | train_auc: 0.56674 | test_auc: 0.53243 |  0:01:11s\n",
            "epoch 36 | loss: 0.49756 | train_auc: 0.56711 | test_auc: 0.53373 |  0:01:13s\n",
            "epoch 37 | loss: 0.49622 | train_auc: 0.56677 | test_auc: 0.53622 |  0:01:15s\n",
            "epoch 38 | loss: 0.49752 | train_auc: 0.56467 | test_auc: 0.53507 |  0:01:16s\n",
            "epoch 39 | loss: 0.49605 | train_auc: 0.56551 | test_auc: 0.53412 |  0:01:18s\n",
            "epoch 40 | loss: 0.49527 | train_auc: 0.56756 | test_auc: 0.53427 |  0:01:20s\n",
            "epoch 41 | loss: 0.49284 | train_auc: 0.56996 | test_auc: 0.53669 |  0:01:22s\n",
            "epoch 42 | loss: 0.49274 | train_auc: 0.57077 | test_auc: 0.53712 |  0:01:24s\n",
            "epoch 43 | loss: 0.4942  | train_auc: 0.56897 | test_auc: 0.53509 |  0:01:26s\n",
            "epoch 44 | loss: 0.4943  | train_auc: 0.56733 | test_auc: 0.5302  |  0:01:28s\n",
            "epoch 45 | loss: 0.49311 | train_auc: 0.56776 | test_auc: 0.53436 |  0:01:30s\n",
            "epoch 46 | loss: 0.49435 | train_auc: 0.56926 | test_auc: 0.53875 |  0:01:31s\n",
            "epoch 47 | loss: 0.49355 | train_auc: 0.5721  | test_auc: 0.53967 |  0:01:33s\n",
            "epoch 48 | loss: 0.49068 | train_auc: 0.57118 | test_auc: 0.53766 |  0:01:35s\n",
            "epoch 49 | loss: 0.49039 | train_auc: 0.5741  | test_auc: 0.53699 |  0:01:37s\n",
            "epoch 50 | loss: 0.49083 | train_auc: 0.57372 | test_auc: 0.53804 |  0:01:39s\n",
            "epoch 51 | loss: 0.49007 | train_auc: 0.57497 | test_auc: 0.53497 |  0:01:41s\n",
            "epoch 52 | loss: 0.4888  | train_auc: 0.57973 | test_auc: 0.53546 |  0:01:43s\n",
            "epoch 53 | loss: 0.49064 | train_auc: 0.58106 | test_auc: 0.53586 |  0:01:45s\n",
            "epoch 54 | loss: 0.48998 | train_auc: 0.57985 | test_auc: 0.53169 |  0:01:46s\n",
            "epoch 55 | loss: 0.48886 | train_auc: 0.57948 | test_auc: 0.5288  |  0:01:48s\n",
            "epoch 56 | loss: 0.48766 | train_auc: 0.58316 | test_auc: 0.53042 |  0:01:51s\n",
            "epoch 57 | loss: 0.4889  | train_auc: 0.58489 | test_auc: 0.53217 |  0:01:53s\n",
            "epoch 58 | loss: 0.48879 | train_auc: 0.58177 | test_auc: 0.53172 |  0:01:55s\n",
            "epoch 59 | loss: 0.49096 | train_auc: 0.58338 | test_auc: 0.53615 |  0:01:56s\n",
            "epoch 60 | loss: 0.48783 | train_auc: 0.58507 | test_auc: 0.5336  |  0:01:58s\n",
            "epoch 61 | loss: 0.48855 | train_auc: 0.58576 | test_auc: 0.53275 |  0:02:00s\n",
            "epoch 62 | loss: 0.48945 | train_auc: 0.58556 | test_auc: 0.534   |  0:02:02s\n",
            "epoch 63 | loss: 0.48911 | train_auc: 0.58797 | test_auc: 0.53746 |  0:02:04s\n",
            "epoch 64 | loss: 0.48916 | train_auc: 0.59051 | test_auc: 0.54241 |  0:02:06s\n",
            "epoch 65 | loss: 0.49037 | train_auc: 0.59033 | test_auc: 0.54887 |  0:02:08s\n",
            "epoch 66 | loss: 0.48974 | train_auc: 0.59324 | test_auc: 0.54826 |  0:02:10s\n",
            "epoch 67 | loss: 0.48776 | train_auc: 0.59259 | test_auc: 0.5469  |  0:02:11s\n",
            "epoch 68 | loss: 0.48922 | train_auc: 0.59042 | test_auc: 0.5491  |  0:02:13s\n",
            "epoch 69 | loss: 0.48846 | train_auc: 0.59491 | test_auc: 0.54935 |  0:02:15s\n",
            "epoch 70 | loss: 0.4887  | train_auc: 0.59592 | test_auc: 0.54651 |  0:02:17s\n",
            "epoch 71 | loss: 0.48905 | train_auc: 0.59503 | test_auc: 0.54393 |  0:02:19s\n",
            "epoch 72 | loss: 0.4882  | train_auc: 0.59291 | test_auc: 0.54359 |  0:02:21s\n",
            "epoch 73 | loss: 0.49073 | train_auc: 0.59289 | test_auc: 0.54111 |  0:02:23s\n",
            "epoch 74 | loss: 0.49043 | train_auc: 0.59287 | test_auc: 0.53824 |  0:02:25s\n",
            "epoch 75 | loss: 0.49094 | train_auc: 0.59487 | test_auc: 0.53818 |  0:02:27s\n",
            "epoch 76 | loss: 0.48959 | train_auc: 0.59756 | test_auc: 0.54117 |  0:02:29s\n",
            "epoch 77 | loss: 0.48728 | train_auc: 0.59951 | test_auc: 0.53997 |  0:02:30s\n",
            "epoch 78 | loss: 0.48605 | train_auc: 0.59876 | test_auc: 0.54084 |  0:02:32s\n",
            "epoch 79 | loss: 0.48504 | train_auc: 0.59951 | test_auc: 0.54241 |  0:02:34s\n",
            "epoch 80 | loss: 0.48267 | train_auc: 0.60243 | test_auc: 0.53921 |  0:02:36s\n",
            "epoch 81 | loss: 0.48154 | train_auc: 0.6023  | test_auc: 0.53888 |  0:02:38s\n",
            "epoch 82 | loss: 0.48117 | train_auc: 0.6096  | test_auc: 0.53835 |  0:02:40s\n",
            "epoch 83 | loss: 0.48188 | train_auc: 0.61333 | test_auc: 0.53737 |  0:02:42s\n",
            "epoch 84 | loss: 0.48085 | train_auc: 0.61439 | test_auc: 0.53648 |  0:02:44s\n",
            "epoch 85 | loss: 0.48107 | train_auc: 0.61764 | test_auc: 0.53711 |  0:02:45s\n",
            "epoch 86 | loss: 0.48113 | train_auc: 0.61938 | test_auc: 0.54599 |  0:02:47s\n",
            "epoch 87 | loss: 0.48206 | train_auc: 0.62022 | test_auc: 0.54306 |  0:02:49s\n",
            "epoch 88 | loss: 0.48119 | train_auc: 0.62312 | test_auc: 0.53952 |  0:02:51s\n",
            "epoch 89 | loss: 0.48094 | train_auc: 0.62399 | test_auc: 0.5421  |  0:02:53s\n",
            "epoch 90 | loss: 0.47731 | train_auc: 0.62458 | test_auc: 0.539   |  0:02:55s\n",
            "epoch 91 | loss: 0.47615 | train_auc: 0.62484 | test_auc: 0.53793 |  0:02:57s\n",
            "epoch 92 | loss: 0.47531 | train_auc: 0.62403 | test_auc: 0.53682 |  0:02:59s\n",
            "epoch 93 | loss: 0.47393 | train_auc: 0.62806 | test_auc: 0.53425 |  0:03:00s\n",
            "epoch 94 | loss: 0.47417 | train_auc: 0.6325  | test_auc: 0.54085 |  0:03:02s\n",
            "epoch 95 | loss: 0.47173 | train_auc: 0.6327  | test_auc: 0.54623 |  0:03:04s\n",
            "epoch 96 | loss: 0.47416 | train_auc: 0.63243 | test_auc: 0.54655 |  0:03:06s\n",
            "epoch 97 | loss: 0.47298 | train_auc: 0.6319  | test_auc: 0.5402  |  0:03:08s\n",
            "epoch 98 | loss: 0.47338 | train_auc: 0.63498 | test_auc: 0.53585 |  0:03:10s\n",
            "epoch 99 | loss: 0.47169 | train_auc: 0.63814 | test_auc: 0.53886 |  0:03:12s\n",
            "Stop training because you reached max_epochs = 100 with best_epoch = 69 and best_test_auc = 0.54935\n",
            "Best weights from best epoch are automatically used!\n"
          ]
        }
      ]
    },
    {
      "cell_type": "code",
      "source": [],
      "metadata": {
        "id": "8NTOXAPuzMij"
      },
      "execution_count": null,
      "outputs": []
    },
    {
      "cell_type": "code",
      "source": [],
      "metadata": {
        "id": "ryH9mRb2zMlR"
      },
      "execution_count": null,
      "outputs": []
    },
    {
      "cell_type": "code",
      "source": [],
      "metadata": {
        "id": "25AJ4gcYzMoj"
      },
      "execution_count": null,
      "outputs": []
    },
    {
      "cell_type": "code",
      "source": [],
      "metadata": {
        "id": "j3wl2ZPczMrC"
      },
      "execution_count": null,
      "outputs": []
    },
    {
      "cell_type": "code",
      "source": [],
      "metadata": {
        "id": "TZMyLA1PzMup"
      },
      "execution_count": null,
      "outputs": []
    },
    {
      "cell_type": "code",
      "source": [],
      "metadata": {
        "id": "N8pWJcorzMxZ"
      },
      "execution_count": null,
      "outputs": []
    }
  ]
}